{
 "cells": [
  {
   "cell_type": "markdown",
   "id": "051610e9",
   "metadata": {},
   "source": [
    "# 1.Find even or odd number"
   ]
  },
  {
   "cell_type": "code",
   "execution_count": 4,
   "id": "127d04a2",
   "metadata": {},
   "outputs": [
    {
     "name": "stdout",
     "output_type": "stream",
     "text": [
      "Enter Number : 5\n",
      "Number is Odd\n"
     ]
    }
   ],
   "source": [
    "num=int(input('Enter Number : '))\n",
    "if(num%2==0):\n",
    "    print('Number is even')\n",
    "else:\n",
    "    print('Number is Odd')"
   ]
  },
  {
   "cell_type": "markdown",
   "id": "9df8db7d",
   "metadata": {},
   "source": [
    "# 2.Check positive,Negative or Zero"
   ]
  },
  {
   "cell_type": "code",
   "execution_count": 7,
   "id": "c3ba4c1c",
   "metadata": {},
   "outputs": [
    {
     "name": "stdout",
     "output_type": "stream",
     "text": [
      "Enter Number :0\n",
      "Number is Zero\n"
     ]
    }
   ],
   "source": [
    "num=float(input('Enter Number :'))\n",
    "if(num==0):\n",
    "    print('Number is Zero')\n",
    "elif(num>0):\n",
    "    print('Number is positive')\n",
    "else:\n",
    "    print('Number is Negative')"
   ]
  },
  {
   "cell_type": "markdown",
   "id": "f1b4f0db",
   "metadata": {},
   "source": [
    "# 3.Find Factorial of a number"
   ]
  },
  {
   "cell_type": "code",
   "execution_count": 10,
   "id": "e168b09b",
   "metadata": {},
   "outputs": [
    {
     "name": "stdout",
     "output_type": "stream",
     "text": [
      "Enter the Number : 10\n",
      "Factorial of number 10 is  3628800\n"
     ]
    }
   ],
   "source": [
    "factorial=1\n",
    "num=int(input('Enter the Number : '))\n",
    "if (num<0):\n",
    "    print('factorial is not allowed for negtive numbers')\n",
    "elif (num==0):\n",
    "    print('factorial of zero is one')\n",
    "else:\n",
    "    for i in range(1,num+1):\n",
    "        factorial=factorial*i\n",
    "    print(f'Factorial of number {num} is ',factorial )"
   ]
  },
  {
   "cell_type": "markdown",
   "id": "bf02b1d4",
   "metadata": {},
   "source": [
    "# 4.Find reverse of a number"
   ]
  },
  {
   "cell_type": "code",
   "execution_count": 13,
   "id": "a4548e62",
   "metadata": {},
   "outputs": [
    {
     "name": "stdout",
     "output_type": "stream",
     "text": [
      "Enter the number : 155\n",
      "Reverse number is  551\n"
     ]
    }
   ],
   "source": [
    "num=int(input('Enter the number : '))\n",
    "def getreverse(num):\n",
    "    rev=0\n",
    "    while(num>0):\n",
    "        dev=num%10\n",
    "        rev=rev*10+dev\n",
    "        num=num//10\n",
    "    return rev\n",
    "\n",
    "rev=getreverse(num)\n",
    "print('Reverse number is ',rev)"
   ]
  },
  {
   "cell_type": "markdown",
   "id": "2679f274",
   "metadata": {},
   "source": [
    "# 5.Check given number is palindrome\n"
   ]
  },
  {
   "cell_type": "markdown",
   "id": "3bee7df6",
   "metadata": {},
   "source": [
    "A palindrome number is a number that remains the same when digits are reversed. For example, the number 12321 is a palindrome number"
   ]
  },
  {
   "cell_type": "code",
   "execution_count": 15,
   "id": "2a4be7fa",
   "metadata": {},
   "outputs": [
    {
     "name": "stdout",
     "output_type": "stream",
     "text": [
      "Enter the number : 151\n",
      "151 is Palindrome\n"
     ]
    }
   ],
   "source": [
    "num=int(input('Enter the number : '))\n",
    "rev=getreverse(num)\n",
    "if (num==rev):\n",
    "    print(f'{num} is Palindrome')\n",
    "else:\n",
    "    print(f'{num} is not Palindrome ')"
   ]
  },
  {
   "cell_type": "markdown",
   "id": "83fc54b8",
   "metadata": {},
   "source": [
    "# 6.Generate Fabinocci Series for a given number"
   ]
  },
  {
   "cell_type": "markdown",
   "id": "df2e7f3b",
   "metadata": {},
   "source": [
    "a series of numbers in which each number (Fibonacci number) is the sum of the two preceding numbers. The simplest is the series 1, 1, 2, 3, 5, 8, etc."
   ]
  },
  {
   "cell_type": "code",
   "execution_count": 42,
   "id": "6b4afca0",
   "metadata": {},
   "outputs": [
    {
     "name": "stdout",
     "output_type": "stream",
     "text": [
      "Enter Number : 9\n",
      "[0, 1, 1, 2, 3, 5, 8, 13, 21]\n"
     ]
    }
   ],
   "source": [
    "def febnociseries(num):\n",
    "    list=[0,1]\n",
    "    a=0\n",
    "    b=1\n",
    "    if (num<0):\n",
    "        print('Negative number is not allowed')\n",
    "    elif (num==0):\n",
    "        print(0)\n",
    "    elif (num==1):\n",
    "        print(list)\n",
    "    elif(num==2):\n",
    "        list.append(b)\n",
    "        print(list)\n",
    "    else: \n",
    "        for i in range(2,num):\n",
    "            c=a+b\n",
    "            a=b\n",
    "            b=c\n",
    "            list.append(b)\n",
    "        print(list)\n",
    "            \n",
    "num=int(input('Enter Number : '))\n",
    "febnociseries(num)"
   ]
  },
  {
   "cell_type": "markdown",
   "id": "dc2f16e1",
   "metadata": {},
   "source": [
    "# 7.Find the nth fabinocci number"
   ]
  },
  {
   "cell_type": "code",
   "execution_count": 41,
   "id": "6ab6f4ee",
   "metadata": {},
   "outputs": [
    {
     "name": "stdout",
     "output_type": "stream",
     "text": [
      "Enter Number : 9\n",
      "21\n"
     ]
    }
   ],
   "source": [
    "def nfebnociseries(num):\n",
    "    a=0\n",
    "    b=1\n",
    "    if (num<0):\n",
    "        print('Negative number is not allowed')\n",
    "    elif (num==0):\n",
    "        print(0)\n",
    "    elif (num==1):\n",
    "        print(0)\n",
    "    elif(num==2):\n",
    "        print(1)\n",
    "    else: \n",
    "        for i in range(2,num):\n",
    "            c=a+b\n",
    "            a=b\n",
    "            b=c \n",
    "        print(b)\n",
    "            \n",
    "num=int(input('Enter Number : '))\n",
    "nfebnociseries(num)"
   ]
  },
  {
   "cell_type": "markdown",
   "id": "1cb0a928",
   "metadata": {},
   "source": [
    "# 8.Python Program for How to check if a given number is Fibonacci number?"
   ]
  },
  {
   "cell_type": "markdown",
   "id": "573d5d67",
   "metadata": {},
   "source": [
    "A number is Fibonacci if and only if one or both of (5*n2 + 4) or (5*n2 – 4) is a perfect square"
   ]
  },
  {
   "cell_type": "code",
   "execution_count": 45,
   "id": "0da45a61",
   "metadata": {},
   "outputs": [],
   "source": [
    "import math\n",
    "def perfectsquare(x):\n",
    "    s = int(math.sqrt(x))\n",
    "    return s*s==x\n",
    "\n",
    "def IsFabinocci(num):\n",
    "    return perfectsquare(5*num*num+4) or perfectsquare(5*num*num-4)"
   ]
  },
  {
   "cell_type": "code",
   "execution_count": 48,
   "id": "d9ecb8b3",
   "metadata": {},
   "outputs": [
    {
     "name": "stdout",
     "output_type": "stream",
     "text": [
      "Enter Number : 21\n",
      "Number is Fabinocci\n"
     ]
    }
   ],
   "source": [
    "num=int(input('Enter Number : '))\n",
    "\n",
    "if IsFabinocci(num):\n",
    "    print('Number is Fabinocci')\n",
    "else:\n",
    "    print('Number is not Fabinocci')"
   ]
  },
  {
   "cell_type": "markdown",
   "id": "54bd5bb0",
   "metadata": {},
   "source": [
    "# 9.Program to print prime numbers from 1 to N."
   ]
  },
  {
   "cell_type": "markdown",
   "id": "e7d74744",
   "metadata": {},
   "source": [
    "A prime number is a natural number greater than 1, which is only divisible by 1 and itself"
   ]
  },
  {
   "cell_type": "code",
   "execution_count": 8,
   "id": "8add0957",
   "metadata": {},
   "outputs": [],
   "source": [
    "def Isprime(num):\n",
    "    for i in range(2,num):\n",
    "        if num%i==0:\n",
    "            return False\n",
    "    return True"
   ]
  },
  {
   "cell_type": "code",
   "execution_count": 12,
   "id": "808ac7fa",
   "metadata": {},
   "outputs": [
    {
     "name": "stdout",
     "output_type": "stream",
     "text": [
      "Enter Number : 100\n",
      "[1, 2, 3, 5, 7, 11, 13, 17, 19, 23, 29, 31, 37, 41, 43, 47, 53, 59, 61, 67, 71, 73, 79, 83, 89, 97]\n"
     ]
    }
   ],
   "source": [
    "num=int(input('Enter Number : '))\n",
    "plist=[]\n",
    "for i in range(1,num+1):\n",
    "    if Isprime(i):\n",
    "        plist.append(i)\n",
    "print(plist)"
   ]
  },
  {
   "cell_type": "markdown",
   "id": "12f517ee",
   "metadata": {},
   "source": [
    "# 10.Program to print ASCII Value of a character"
   ]
  },
  {
   "cell_type": "markdown",
   "id": "bc028f42",
   "metadata": {},
   "source": [
    "Python code using ord function : ord() : It converts the given string of length one, returns an integer representing the Unicode code point of the character. For example, ord(‘a’) returns the integer 97. "
   ]
  },
  {
   "cell_type": "code",
   "execution_count": 14,
   "id": "9d194f6a",
   "metadata": {},
   "outputs": [
    {
     "name": "stdout",
     "output_type": "stream",
     "text": [
      "Enter the letter : g\n",
      "The ASCII value of 'g' is 103\n"
     ]
    }
   ],
   "source": [
    "string=input('Enter the letter : ')\n",
    "print(\"The ASCII value of '\" + string + \"' is\", ord(string))"
   ]
  },
  {
   "cell_type": "code",
   "execution_count": null,
   "id": "d02e712b",
   "metadata": {},
   "outputs": [],
   "source": []
  },
  {
   "cell_type": "code",
   "execution_count": null,
   "id": "1c6f4bf7",
   "metadata": {},
   "outputs": [],
   "source": []
  }
 ],
 "metadata": {
  "kernelspec": {
   "display_name": "Python 3 (ipykernel)",
   "language": "python",
   "name": "python3"
  },
  "language_info": {
   "codemirror_mode": {
    "name": "ipython",
    "version": 3
   },
   "file_extension": ".py",
   "mimetype": "text/x-python",
   "name": "python",
   "nbconvert_exporter": "python",
   "pygments_lexer": "ipython3",
   "version": "3.9.12"
  }
 },
 "nbformat": 4,
 "nbformat_minor": 5
}
