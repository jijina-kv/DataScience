{
 "cells": [
  {
   "cell_type": "markdown",
   "id": "766b5046",
   "metadata": {},
   "source": [
    "Problem Statement:\n",
    "1. You have access to the salary information of several employees along with their Years of\n",
    "Experience. Using Linear regression analysis in machine learning, create a linear\n",
    "regression model can predict the salary of an employee based on the years of\n",
    "experience."
   ]
  },
  {
   "cell_type": "code",
   "execution_count": 1,
   "id": "6f26560f",
   "metadata": {},
   "outputs": [],
   "source": [
    "import numpy as np\n",
    "import pandas as pd\n",
    "import matplotlib.pyplot as plt\n",
    "from sklearn.model_selection import train_test_split\n",
    "from sklearn import  linear_model, metrics\n",
    "from sklearn.metrics import *"
   ]
  },
  {
   "cell_type": "code",
   "execution_count": 2,
   "id": "62ee5967",
   "metadata": {},
   "outputs": [
    {
     "data": {
      "text/html": [
       "<div>\n",
       "<style scoped>\n",
       "    .dataframe tbody tr th:only-of-type {\n",
       "        vertical-align: middle;\n",
       "    }\n",
       "\n",
       "    .dataframe tbody tr th {\n",
       "        vertical-align: top;\n",
       "    }\n",
       "\n",
       "    .dataframe thead th {\n",
       "        text-align: right;\n",
       "    }\n",
       "</style>\n",
       "<table border=\"1\" class=\"dataframe\">\n",
       "  <thead>\n",
       "    <tr style=\"text-align: right;\">\n",
       "      <th></th>\n",
       "      <th>YearsExperience</th>\n",
       "      <th>Salary</th>\n",
       "    </tr>\n",
       "  </thead>\n",
       "  <tbody>\n",
       "    <tr>\n",
       "      <th>0</th>\n",
       "      <td>1.1</td>\n",
       "      <td>39343.0</td>\n",
       "    </tr>\n",
       "    <tr>\n",
       "      <th>1</th>\n",
       "      <td>1.3</td>\n",
       "      <td>46205.0</td>\n",
       "    </tr>\n",
       "    <tr>\n",
       "      <th>2</th>\n",
       "      <td>1.5</td>\n",
       "      <td>37731.0</td>\n",
       "    </tr>\n",
       "    <tr>\n",
       "      <th>3</th>\n",
       "      <td>2.0</td>\n",
       "      <td>43525.0</td>\n",
       "    </tr>\n",
       "    <tr>\n",
       "      <th>4</th>\n",
       "      <td>2.2</td>\n",
       "      <td>39891.0</td>\n",
       "    </tr>\n",
       "  </tbody>\n",
       "</table>\n",
       "</div>"
      ],
      "text/plain": [
       "   YearsExperience   Salary\n",
       "0              1.1  39343.0\n",
       "1              1.3  46205.0\n",
       "2              1.5  37731.0\n",
       "3              2.0  43525.0\n",
       "4              2.2  39891.0"
      ]
     },
     "execution_count": 2,
     "metadata": {},
     "output_type": "execute_result"
    }
   ],
   "source": [
    "df=pd.read_csv('data.csv')\n",
    "df.head()"
   ]
  },
  {
   "cell_type": "code",
   "execution_count": 3,
   "id": "eb066361",
   "metadata": {},
   "outputs": [
    {
     "name": "stdout",
     "output_type": "stream",
     "text": [
      "<class 'pandas.core.frame.DataFrame'>\n",
      "RangeIndex: 30 entries, 0 to 29\n",
      "Data columns (total 2 columns):\n",
      " #   Column           Non-Null Count  Dtype  \n",
      "---  ------           --------------  -----  \n",
      " 0   YearsExperience  30 non-null     float64\n",
      " 1   Salary           30 non-null     float64\n",
      "dtypes: float64(2)\n",
      "memory usage: 608.0 bytes\n"
     ]
    }
   ],
   "source": [
    "df.info()"
   ]
  },
  {
   "cell_type": "code",
   "execution_count": 4,
   "id": "3e1b5008",
   "metadata": {},
   "outputs": [
    {
     "data": {
      "text/plain": [
       "{'whiskers': [<matplotlib.lines.Line2D at 0x1ddfac33a30>,\n",
       "  <matplotlib.lines.Line2D at 0x1ddfac33d00>],\n",
       " 'caps': [<matplotlib.lines.Line2D at 0x1ddfac33fd0>,\n",
       "  <matplotlib.lines.Line2D at 0x1ddfac4e2e0>],\n",
       " 'boxes': [<matplotlib.lines.Line2D at 0x1ddfac33760>],\n",
       " 'medians': [<matplotlib.lines.Line2D at 0x1ddfac4e5b0>],\n",
       " 'fliers': [<matplotlib.lines.Line2D at 0x1ddfac4e880>],\n",
       " 'means': []}"
      ]
     },
     "execution_count": 4,
     "metadata": {},
     "output_type": "execute_result"
    },
    {
     "data": {
      "image/png": "[encoded data removed]",
      "text/plain": [
       "<Figure size 432x288 with 1 Axes>"
      ]
     },
     "metadata": {
      "needs_background": "light"
     },
     "output_type": "display_data"
    }
   ],
   "source": [
    "  plt.boxplot(df['Salary'])"
   ]
  },
  {
   "cell_type": "code",
   "execution_count": 5,
   "id": "58f8576d",
   "metadata": {},
   "outputs": [],
   "source": [
    "Q1 = df.Salary.quantile(0.25)\n",
    "Q3 = df.Salary.quantile(0.75)\n",
    "IQR = Q3 - Q1\n",
    "df = df[(df.Salary >= Q1 - 1.5*IQR) & (df.Salary <= Q3 + 1.5*IQR)]"
   ]
  },
  {
   "cell_type": "code",
   "execution_count": 6,
   "id": "dcc90a2d",
   "metadata": {},
   "outputs": [
    {
     "data": {
      "text/plain": [
       "(30, 2)"
      ]
     },
     "execution_count": 6,
     "metadata": {},
     "output_type": "execute_result"
    }
   ],
   "source": [
    "df.shape"
   ]
  },
  {
   "cell_type": "code",
   "execution_count": 7,
   "id": "9de0d438",
   "metadata": {},
   "outputs": [],
   "source": [
    "x=df['YearsExperience'].to_frame()\n",
    "y=df['Salary'].to_frame()"
   ]
  },
  {
   "cell_type": "code",
   "execution_count": 8,
   "id": "b58a4c7f",
   "metadata": {},
   "outputs": [],
   "source": [
    "x_train, x_test, y_train, y_test=train_test_split(x,y,train_size=0.8, random_state=0)"
   ]
  },
  {
   "cell_type": "code",
   "execution_count": 9,
   "id": "367258cb",
   "metadata": {},
   "outputs": [
    {
     "data": {
      "text/plain": [
       "LinearRegression()"
      ]
     },
     "execution_count": 9,
     "metadata": {},
     "output_type": "execute_result"
    }
   ],
   "source": [
    "l_model=linear_model.LinearRegression()\n",
    "l_model.fit(x_train, y_train)"
   ]
  },
  {
   "cell_type": "code",
   "execution_count": 10,
   "id": "8d8b89a0",
   "metadata": {},
   "outputs": [],
   "source": [
    "pred=l_model.predict(x_test)"
   ]
  },
  {
   "cell_type": "code",
   "execution_count": 11,
   "id": "c751462e",
   "metadata": {},
   "outputs": [
    {
     "data": {
      "text/plain": [
       "0.988169515729126"
      ]
     },
     "execution_count": 11,
     "metadata": {},
     "output_type": "execute_result"
    }
   ],
   "source": [
    "r2=r2_score(y_test, pred)\n",
    "r2"
   ]
  },
  {
   "cell_type": "markdown",
   "id": "0482b96a",
   "metadata": {},
   "source": [
    "# Use the data.csv for the questions mentioned below"
   ]
  },
  {
   "cell_type": "markdown",
   "id": "1ae2f0eb",
   "metadata": {},
   "source": [
    "1. How many employees having more than 5 years experience are earning more than 60000?\n",
    "a. 41\n",
    "b. 12\n",
    "c. 21\n",
    "d. 14\n",
    "\n",
    "Ans:d. 14"
   ]
  },
  {
   "cell_type": "code",
   "execution_count": 12,
   "id": "53d32d88",
   "metadata": {},
   "outputs": [
    {
     "data": {
      "text/plain": [
       "YearsExperience    14\n",
       "Salary             14\n",
       "dtype: int64"
      ]
     },
     "execution_count": 12,
     "metadata": {},
     "output_type": "execute_result"
    }
   ],
   "source": [
    "df[df.YearsExperience>5].count()"
   ]
  },
  {
   "cell_type": "markdown",
   "id": "24753eff",
   "metadata": {},
   "source": [
    "2. How many employees are earning between 50000-80000?\n",
    "a. 14\n",
    "b. 12\n",
    "c. 10\n",
    "d. 13\n",
    "\n",
    "Ans:b. 12"
   ]
  },
  {
   "cell_type": "code",
   "execution_count": 13,
   "id": "b9cc2ee5",
   "metadata": {},
   "outputs": [
    {
     "data": {
      "text/plain": [
       "YearsExperience    12\n",
       "Salary             12\n",
       "dtype: int64"
      ]
     },
     "execution_count": 13,
     "metadata": {},
     "output_type": "execute_result"
    }
   ],
   "source": [
    "df[(df.Salary>=50000)&(df.Salary<=80000)].count()"
   ]
  },
  {
   "cell_type": "markdown",
   "id": "b23532f1",
   "metadata": {},
   "source": [
    "3. The scatter plot in the following image shows the relationship between the\n",
    "“YearsExperience” and “Salary” columns. What possible inferences can be drawn from the\n",
    "plot?\n",
    "a. The plot shows a positive correlation between the ‘YearsExperience” and “Salary”\n",
    "column.\n",
    "b. The plot shows no significant relationship between the “YearExperience” and\n",
    "“Salary” column.\n",
    "c. The plot shows a negative correlation between the “YearsExperience” and\n",
    "“Salary” column.\n",
    "d. None of the above.\n",
    "\n",
    "Ans :a. The plot shows a positive correlation between the ‘YearsExperience” and “Salary”\n",
    "column."
   ]
  },
  {
   "cell_type": "code",
   "execution_count": 14,
   "id": "555485fb",
   "metadata": {},
   "outputs": [
    {
     "data": {
      "text/plain": [
       "<matplotlib.collections.PathCollection at 0x1ddfad5b8e0>"
      ]
     },
     "execution_count": 14,
     "metadata": {},
     "output_type": "execute_result"
    },
    {
     "data": {
      "image/png": "[encoded data removed]",
      "text/plain": [
       "<Figure size 432x288 with 1 Axes>"
      ]
     },
     "metadata": {
      "needs_background": "light"
     },
     "output_type": "display_data"
    }
   ],
   "source": [
    "plt.scatter(df.YearsExperience,df.Salary)"
   ]
  },
  {
   "cell_type": "markdown",
   "id": "ec021ff4",
   "metadata": {},
   "source": [
    "4. The distribution plot of the column “YearsExperience” is shown in the image below,\n",
    "what possible inferences can be drawn from the plot.\n",
    "a. “YearsExperience” data is normally distributed.\n",
    "b. “YearsExperience” data is positively skewed.\n",
    "c. “YearsExperience” data is negatively skewed.\n",
    "d. None of the above.\n",
    "\n",
    "Ans: a. “YearsExperience” data is normally distributed."
   ]
  },
  {
   "cell_type": "markdown",
   "id": "705f939b",
   "metadata": {},
   "source": [
    "5. What all inferences can be drawn from the table shown below:\n",
    "a. The range of the “YearsExperience” and “Salary” data is (9.4 , 84660 )\n",
    "b. The range of the “YearsExperience” and “Salary” data is (4.7 , 65237 )\n",
    "c. The range of the “YearsExperience” and “Salary” data is (10.5, 122391)\n",
    "d. The range of the “YearsExperience” and “Salary” data is (7.7 ,100544)\n",
    "\n",
    "Ans : c. The range of the “YearsExperience” and “Salary” data is (10.5, 122391)"
   ]
  },
  {
   "cell_type": "code",
   "execution_count": 15,
   "id": "21035d96",
   "metadata": {},
   "outputs": [
    {
     "data": {
      "text/html": [
       "<div>\n",
       "<style scoped>\n",
       "    .dataframe tbody tr th:only-of-type {\n",
       "        vertical-align: middle;\n",
       "    }\n",
       "\n",
       "    .dataframe tbody tr th {\n",
       "        vertical-align: top;\n",
       "    }\n",
       "\n",
       "    .dataframe thead th {\n",
       "        text-align: right;\n",
       "    }\n",
       "</style>\n",
       "<table border=\"1\" class=\"dataframe\">\n",
       "  <thead>\n",
       "    <tr style=\"text-align: right;\">\n",
       "      <th></th>\n",
       "      <th>YearsExperience</th>\n",
       "      <th>Salary</th>\n",
       "    </tr>\n",
       "  </thead>\n",
       "  <tbody>\n",
       "    <tr>\n",
       "      <th>count</th>\n",
       "      <td>30.000000</td>\n",
       "      <td>30.000000</td>\n",
       "    </tr>\n",
       "    <tr>\n",
       "      <th>mean</th>\n",
       "      <td>5.313333</td>\n",
       "      <td>76003.000000</td>\n",
       "    </tr>\n",
       "    <tr>\n",
       "      <th>std</th>\n",
       "      <td>2.837888</td>\n",
       "      <td>27414.429785</td>\n",
       "    </tr>\n",
       "    <tr>\n",
       "      <th>min</th>\n",
       "      <td>1.100000</td>\n",
       "      <td>37731.000000</td>\n",
       "    </tr>\n",
       "    <tr>\n",
       "      <th>25%</th>\n",
       "      <td>3.200000</td>\n",
       "      <td>56720.750000</td>\n",
       "    </tr>\n",
       "    <tr>\n",
       "      <th>50%</th>\n",
       "      <td>4.700000</td>\n",
       "      <td>65237.000000</td>\n",
       "    </tr>\n",
       "    <tr>\n",
       "      <th>75%</th>\n",
       "      <td>7.700000</td>\n",
       "      <td>100544.750000</td>\n",
       "    </tr>\n",
       "    <tr>\n",
       "      <th>max</th>\n",
       "      <td>10.500000</td>\n",
       "      <td>122391.000000</td>\n",
       "    </tr>\n",
       "  </tbody>\n",
       "</table>\n",
       "</div>"
      ],
      "text/plain": [
       "       YearsExperience         Salary\n",
       "count        30.000000      30.000000\n",
       "mean          5.313333   76003.000000\n",
       "std           2.837888   27414.429785\n",
       "min           1.100000   37731.000000\n",
       "25%           3.200000   56720.750000\n",
       "50%           4.700000   65237.000000\n",
       "75%           7.700000  100544.750000\n",
       "max          10.500000  122391.000000"
      ]
     },
     "execution_count": 15,
     "metadata": {},
     "output_type": "execute_result"
    }
   ],
   "source": [
    "df.describe()"
   ]
  },
  {
   "cell_type": "markdown",
   "id": "de82f7c3",
   "metadata": {},
   "source": [
    "6. To split the dataset into training and testing data, if we use the following\n",
    "code. X = data['YearsExperience']\n",
    "y = data['Salary']\n",
    "X_train, X_test, y_train, y_test = train_test_split(X, y, test_size=0.2,\n",
    "random_state=0) What does it mean when we write the test size as 0.2?\n",
    "a. The testing data will be 2% accurate.\n",
    "b. The testing data will have 80% samples from the total population.\n",
    "c. The testing data will have 2% samples from the total population.\n",
    "d. The training data will consist of 80% of the samples from the total population.\n",
    "\n",
    "Ans: d. The training data will consist of 80% of the samples from the total population."
   ]
  },
  {
   "cell_type": "markdown",
   "id": "42776c09",
   "metadata": {},
   "source": [
    "7. In the above example code, we have taken the random state as 0, if we change the\n",
    "random state as 42, what does it mean for our training and testing data?\n",
    "a. The shape of the training data will become (42,)\n",
    "b. The shape of the training data will become (42,2)\n",
    "c. The random state does not have any effect on the shape of the data.\n",
    "d. The random state will increase the efficiency of the model by 42%.\n",
    "\n",
    "ans:c. The random state does not have any effect on the shape of the data."
   ]
  },
  {
   "cell_type": "markdown",
   "id": "281cd784",
   "metadata": {},
   "source": [
    "8. If the r2 score calculated in the above example is 0.98 , change the sample size of\n",
    "the training and testing set in the ratio 60:40, and build a linear regression model again.\n",
    "After plotting the best fit line on the test data, calculate the r2_score for the new model.\n",
    "a. 0.98\n",
    "b. 0.96\n",
    "c. 1.0\n",
    "d. 0.0\n",
    "\n",
    "Ans : b. 0.96"
   ]
  },
  {
   "cell_type": "code",
   "execution_count": 16,
   "id": "1d31d4b8",
   "metadata": {},
   "outputs": [
    {
     "data": {
      "text/plain": [
       "0.9679117063698979"
      ]
     },
     "execution_count": 16,
     "metadata": {},
     "output_type": "execute_result"
    }
   ],
   "source": [
    "x=df['YearsExperience'].to_frame()\n",
    "y=df['Salary'].to_frame()\n",
    "x_train, x_test, y_train, y_test=train_test_split(x,y,train_size=0.60, random_state=0)\n",
    "l_model=linear_model.LinearRegression()\n",
    "l_model.fit(x_train, y_train)\n",
    "pred=l_model.predict(x_test)\n",
    "r2=r2_score(y_test, pred)\n",
    "r2"
   ]
  },
  {
   "cell_type": "markdown",
   "id": "c1236819",
   "metadata": {},
   "source": [
    "9. If while fitting the model with training and testing data, you get the following error\n",
    "ValueError: Expected 2D array, got 1D array instead: What could be\n",
    "the issue with the data, and how can you solve it?\n",
    "a. Reshape the data to a two dimensional array\n",
    "b. Reshape the data to two arrays of 1-D each.\n",
    "c. Both A and B\n",
    "d. None of the above\n",
    "Ans :a. Reshape the data to a two dimensional array"
   ]
  },
  {
   "cell_type": "code",
   "execution_count": null,
   "id": "6568e3c8",
   "metadata": {},
   "outputs": [],
   "source": []
  },
  {
   "cell_type": "code",
   "execution_count": null,
   "id": "77236db1",
   "metadata": {},
   "outputs": [],
   "source": []
  },
  {
   "cell_type": "code",
   "execution_count": null,
   "id": "d26bcc03",
   "metadata": {},
   "outputs": [],
   "source": []
  },
  {
   "cell_type": "markdown",
   "id": "696b3c59",
   "metadata": {},
   "source": [
    "2. House prices can be an ever changing trend, but it does change based on certain\n",
    "parameters. You are provided with housing data that has information on various houses\n",
    "and their prices. Use the data at hand to predict the prices of the house using linear\n",
    "regression in machine learning.\n"
   ]
  },
  {
   "cell_type": "code",
   "execution_count": 17,
   "id": "4a9a34ab",
   "metadata": {},
   "outputs": [
    {
     "data": {
      "text/html": [
       "<div>\n",
       "<style scoped>\n",
       "    .dataframe tbody tr th:only-of-type {\n",
       "        vertical-align: middle;\n",
       "    }\n",
       "\n",
       "    .dataframe tbody tr th {\n",
       "        vertical-align: top;\n",
       "    }\n",
       "\n",
       "    .dataframe thead th {\n",
       "        text-align: right;\n",
       "    }\n",
       "</style>\n",
       "<table border=\"1\" class=\"dataframe\">\n",
       "  <thead>\n",
       "    <tr style=\"text-align: right;\">\n",
       "      <th></th>\n",
       "      <th>id</th>\n",
       "      <th>date</th>\n",
       "      <th>price</th>\n",
       "      <th>bedrooms</th>\n",
       "      <th>bathrooms</th>\n",
       "      <th>sqft_living</th>\n",
       "      <th>sqft_lot</th>\n",
       "      <th>floors</th>\n",
       "      <th>waterfront</th>\n",
       "      <th>view</th>\n",
       "      <th>...</th>\n",
       "      <th>grade</th>\n",
       "      <th>sqft_above</th>\n",
       "      <th>sqft_basement</th>\n",
       "      <th>yr_built</th>\n",
       "      <th>yr_renovated</th>\n",
       "      <th>zipcode</th>\n",
       "      <th>lat</th>\n",
       "      <th>long</th>\n",
       "      <th>sqft_living15</th>\n",
       "      <th>sqft_lot15</th>\n",
       "    </tr>\n",
       "  </thead>\n",
       "  <tbody>\n",
       "    <tr>\n",
       "      <th>0</th>\n",
       "      <td>7129300520</td>\n",
       "      <td>20141013T000000</td>\n",
       "      <td>221900</td>\n",
       "      <td>3</td>\n",
       "      <td>1.00</td>\n",
       "      <td>1180</td>\n",
       "      <td>5650</td>\n",
       "      <td>1.0</td>\n",
       "      <td>0</td>\n",
       "      <td>0</td>\n",
       "      <td>...</td>\n",
       "      <td>7</td>\n",
       "      <td>1180</td>\n",
       "      <td>0</td>\n",
       "      <td>1955</td>\n",
       "      <td>0</td>\n",
       "      <td>98178</td>\n",
       "      <td>47.5112</td>\n",
       "      <td>-122.257</td>\n",
       "      <td>1340</td>\n",
       "      <td>5650</td>\n",
       "    </tr>\n",
       "    <tr>\n",
       "      <th>1</th>\n",
       "      <td>6414100192</td>\n",
       "      <td>20141209T000000</td>\n",
       "      <td>538000</td>\n",
       "      <td>3</td>\n",
       "      <td>2.25</td>\n",
       "      <td>2570</td>\n",
       "      <td>7242</td>\n",
       "      <td>2.0</td>\n",
       "      <td>0</td>\n",
       "      <td>0</td>\n",
       "      <td>...</td>\n",
       "      <td>7</td>\n",
       "      <td>2170</td>\n",
       "      <td>400</td>\n",
       "      <td>1951</td>\n",
       "      <td>1991</td>\n",
       "      <td>98125</td>\n",
       "      <td>47.7210</td>\n",
       "      <td>-122.319</td>\n",
       "      <td>1690</td>\n",
       "      <td>7639</td>\n",
       "    </tr>\n",
       "    <tr>\n",
       "      <th>2</th>\n",
       "      <td>5631500400</td>\n",
       "      <td>20150225T000000</td>\n",
       "      <td>180000</td>\n",
       "      <td>2</td>\n",
       "      <td>1.00</td>\n",
       "      <td>770</td>\n",
       "      <td>10000</td>\n",
       "      <td>1.0</td>\n",
       "      <td>0</td>\n",
       "      <td>0</td>\n",
       "      <td>...</td>\n",
       "      <td>6</td>\n",
       "      <td>770</td>\n",
       "      <td>0</td>\n",
       "      <td>1933</td>\n",
       "      <td>0</td>\n",
       "      <td>98028</td>\n",
       "      <td>47.7379</td>\n",
       "      <td>-122.233</td>\n",
       "      <td>2720</td>\n",
       "      <td>8062</td>\n",
       "    </tr>\n",
       "    <tr>\n",
       "      <th>3</th>\n",
       "      <td>2487200875</td>\n",
       "      <td>20141209T000000</td>\n",
       "      <td>604000</td>\n",
       "      <td>4</td>\n",
       "      <td>3.00</td>\n",
       "      <td>1960</td>\n",
       "      <td>5000</td>\n",
       "      <td>1.0</td>\n",
       "      <td>0</td>\n",
       "      <td>0</td>\n",
       "      <td>...</td>\n",
       "      <td>7</td>\n",
       "      <td>1050</td>\n",
       "      <td>910</td>\n",
       "      <td>1965</td>\n",
       "      <td>0</td>\n",
       "      <td>98136</td>\n",
       "      <td>47.5208</td>\n",
       "      <td>-122.393</td>\n",
       "      <td>1360</td>\n",
       "      <td>5000</td>\n",
       "    </tr>\n",
       "    <tr>\n",
       "      <th>4</th>\n",
       "      <td>1954400510</td>\n",
       "      <td>20150218T000000</td>\n",
       "      <td>510000</td>\n",
       "      <td>3</td>\n",
       "      <td>2.00</td>\n",
       "      <td>1680</td>\n",
       "      <td>8080</td>\n",
       "      <td>1.0</td>\n",
       "      <td>0</td>\n",
       "      <td>0</td>\n",
       "      <td>...</td>\n",
       "      <td>8</td>\n",
       "      <td>1680</td>\n",
       "      <td>0</td>\n",
       "      <td>1987</td>\n",
       "      <td>0</td>\n",
       "      <td>98074</td>\n",
       "      <td>47.6168</td>\n",
       "      <td>-122.045</td>\n",
       "      <td>1800</td>\n",
       "      <td>7503</td>\n",
       "    </tr>\n",
       "  </tbody>\n",
       "</table>\n",
       "<p>5 rows × 21 columns</p>\n",
       "</div>"
      ],
      "text/plain": [
       "           id             date   price  bedrooms  bathrooms  sqft_living  \\\n",
       "0  7129300520  20141013T000000  221900         3       1.00         1180   \n",
       "1  6414100192  20141209T000000  538000         3       2.25         2570   \n",
       "2  5631500400  20150225T000000  180000         2       1.00          770   \n",
       "3  2487200875  20141209T000000  604000         4       3.00         1960   \n",
       "4  1954400510  20150218T000000  510000         3       2.00         1680   \n",
       "\n",
       "   sqft_lot  floors  waterfront  view  ...  grade  sqft_above  sqft_basement  \\\n",
       "0      5650     1.0           0     0  ...      7        1180              0   \n",
       "1      7242     2.0           0     0  ...      7        2170            400   \n",
       "2     10000     1.0           0     0  ...      6         770              0   \n",
       "3      5000     1.0           0     0  ...      7        1050            910   \n",
       "4      8080     1.0           0     0  ...      8        1680              0   \n",
       "\n",
       "   yr_built  yr_renovated  zipcode      lat     long  sqft_living15  \\\n",
       "0      1955             0    98178  47.5112 -122.257           1340   \n",
       "1      1951          1991    98125  47.7210 -122.319           1690   \n",
       "2      1933             0    98028  47.7379 -122.233           2720   \n",
       "3      1965             0    98136  47.5208 -122.393           1360   \n",
       "4      1987             0    98074  47.6168 -122.045           1800   \n",
       "\n",
       "   sqft_lot15  \n",
       "0        5650  \n",
       "1        7639  \n",
       "2        8062  \n",
       "3        5000  \n",
       "4        7503  \n",
       "\n",
       "[5 rows x 21 columns]"
      ]
     },
     "execution_count": 17,
     "metadata": {},
     "output_type": "execute_result"
    }
   ],
   "source": [
    "house=pd.read_csv('Housing.csv')\n",
    "house.head()"
   ]
  },
  {
   "cell_type": "code",
   "execution_count": 18,
   "id": "c9e46b28",
   "metadata": {},
   "outputs": [
    {
     "name": "stdout",
     "output_type": "stream",
     "text": [
      "<class 'pandas.core.frame.DataFrame'>\n",
      "RangeIndex: 21613 entries, 0 to 21612\n",
      "Data columns (total 21 columns):\n",
      " #   Column         Non-Null Count  Dtype  \n",
      "---  ------         --------------  -----  \n",
      " 0   id             21613 non-null  int64  \n",
      " 1   date           21613 non-null  object \n",
      " 2   price          21613 non-null  int64  \n",
      " 3   bedrooms       21613 non-null  int64  \n",
      " 4   bathrooms      21613 non-null  float64\n",
      " 5   sqft_living    21613 non-null  int64  \n",
      " 6   sqft_lot       21613 non-null  int64  \n",
      " 7   floors         21613 non-null  float64\n",
      " 8   waterfront     21613 non-null  int64  \n",
      " 9   view           21613 non-null  int64  \n",
      " 10  condition      21613 non-null  int64  \n",
      " 11  grade          21613 non-null  int64  \n",
      " 12  sqft_above     21613 non-null  int64  \n",
      " 13  sqft_basement  21613 non-null  int64  \n",
      " 14  yr_built       21613 non-null  int64  \n",
      " 15  yr_renovated   21613 non-null  int64  \n",
      " 16  zipcode        21613 non-null  int64  \n",
      " 17  lat            21613 non-null  float64\n",
      " 18  long           21613 non-null  float64\n",
      " 19  sqft_living15  21613 non-null  int64  \n",
      " 20  sqft_lot15     21613 non-null  int64  \n",
      "dtypes: float64(4), int64(16), object(1)\n",
      "memory usage: 3.5+ MB\n"
     ]
    }
   ],
   "source": [
    "house.info()"
   ]
  },
  {
   "cell_type": "code",
   "execution_count": 19,
   "id": "82f0e2b9",
   "metadata": {},
   "outputs": [
    {
     "data": {
      "text/plain": [
       "id               0\n",
       "date             0\n",
       "price            0\n",
       "bedrooms         0\n",
       "bathrooms        0\n",
       "sqft_living      0\n",
       "sqft_lot         0\n",
       "floors           0\n",
       "waterfront       0\n",
       "view             0\n",
       "condition        0\n",
       "grade            0\n",
       "sqft_above       0\n",
       "sqft_basement    0\n",
       "yr_built         0\n",
       "yr_renovated     0\n",
       "zipcode          0\n",
       "lat              0\n",
       "long             0\n",
       "sqft_living15    0\n",
       "sqft_lot15       0\n",
       "dtype: int64"
      ]
     },
     "execution_count": 19,
     "metadata": {},
     "output_type": "execute_result"
    }
   ],
   "source": [
    "house.isnull().sum()"
   ]
  },
  {
   "cell_type": "code",
   "execution_count": 20,
   "id": "357390f7",
   "metadata": {},
   "outputs": [],
   "source": [
    "col=house.columns"
   ]
  },
  {
   "cell_type": "code",
   "execution_count": 21,
   "id": "f7ef89f6",
   "metadata": {},
   "outputs": [
    {
     "data": {
      "image/png": "[encoded data removed]",
      "text/plain": [
       "<Figure size 432x288 with 1 Axes>"
      ]
     },
     "metadata": {
      "needs_background": "light"
     },
     "output_type": "display_data"
    },
    {
     "data": {
      "image/png": "[encoded data removed]",
      "text/plain": [
       "<Figure size 432x288 with 1 Axes>"
      ]
     },
     "metadata": {
      "needs_background": "light"
     },
     "output_type": "display_data"
    },
    {
     "data": {
      "image/png": "[encoded data removed]",
      "text/plain": [
       "<Figure size 432x288 with 1 Axes>"
      ]
     },
     "metadata": {
      "needs_background": "light"
     },
     "output_type": "display_data"
    },
    {
     "data": {
      "image/png": "[encoded data removed]",
      "text/plain": [
       "<Figure size 432x288 with 1 Axes>"
      ]
     },
     "metadata": {
      "needs_background": "light"
     },
     "output_type": "display_data"
    },
    {
     "data": {
      "image/png": "[encoded data removed]",
      "text/plain": [
       "<Figure size 432x288 with 1 Axes>"
      ]
     },
     "metadata": {
      "needs_background": "light"
     },
     "output_type": "display_data"
    },
    {
     "data": {
      "image/png": "[encoded data removed]",
      "text/plain": [
       "<Figure size 432x288 with 1 Axes>"
      ]
     },
     "metadata": {
      "needs_background": "light"
     },
     "output_type": "display_data"
    },
    {
     "data": {
      "image/png": "[encoded data removed]",
      "text/plain": [
       "<Figure size 432x288 with 1 Axes>"
      ]
     },
     "metadata": {
      "needs_background": "light"
     },
     "output_type": "display_data"
    },
    {
     "data": {
      "image/png": "[encoded data removed]",
      "text/plain": [
       "<Figure size 432x288 with 1 Axes>"
      ]
     },
     "metadata": {
      "needs_background": "light"
     },
     "output_type": "display_data"
    },
    {
     "data": {
      "image/png": "[encoded data removed]",
      "text/plain": [
       "<Figure size 432x288 with 1 Axes>"
      ]
     },
     "metadata": {
      "needs_background": "light"
     },
     "output_type": "display_data"
    },
    {
     "data": {
      "image/png": "[encoded data removed]",
      "text/plain": [
       "<Figure size 432x288 with 1 Axes>"
      ]
     },
     "metadata": {
      "needs_background": "light"
     },
     "output_type": "display_data"
    },
    {
     "data": {
      "image/png": "[encoded data removed]",
      "text/plain": [
       "<Figure size 432x288 with 1 Axes>"
      ]
     },
     "metadata": {
      "needs_background": "light"
     },
     "output_type": "display_data"
    },
    {
     "data": {
      "image/png": "[encoded data removed]",
      "text/plain": [
       "<Figure size 432x288 with 1 Axes>"
      ]
     },
     "metadata": {
      "needs_background": "light"
     },
     "output_type": "display_data"
    },
    {
     "data": {
      "image/png": "[encoded data removed]",
      "text/plain": [
       "<Figure size 432x288 with 1 Axes>"
      ]
     },
     "metadata": {
      "needs_background": "light"
     },
     "output_type": "display_data"
    },
    {
     "data": {
      "image/png": "[encoded data removed]",
      "text/plain": [
       "<Figure size 432x288 with 1 Axes>"
      ]
     },
     "metadata": {
      "needs_background": "light"
     },
     "output_type": "display_data"
    },
    {
     "data": {
      "image/png": "[encoded data removed]",
      "text/plain": [
       "<Figure size 432x288 with 1 Axes>"
      ]
     },
     "metadata": {
      "needs_background": "light"
     },
     "output_type": "display_data"
    },
    {
     "data": {
      "image/png": "[encoded data removed]",
      "text/plain": [
       "<Figure size 432x288 with 1 Axes>"
      ]
     },
     "metadata": {
      "needs_background": "light"
     },
     "output_type": "display_data"
    },
    {
     "data": {
      "image/png": "[encoded data removed]",
      "text/plain": [
       "<Figure size 432x288 with 1 Axes>"
      ]
     },
     "metadata": {
      "needs_background": "light"
     },
     "output_type": "display_data"
    },
    {
     "data": {
      "image/png": "[encoded data removed]",
      "text/plain": [
       "<Figure size 432x288 with 1 Axes>"
      ]
     },
     "metadata": {
      "needs_background": "light"
     },
     "output_type": "display_data"
    },
    {
     "data": {
      "image/png": "[encoded data removed]",
      "text/plain": [
       "<Figure size 432x288 with 1 Axes>"
      ]
     },
     "metadata": {
      "needs_background": "light"
     },
     "output_type": "display_data"
    },
    {
     "data": {
      "image/png": "[encoded data removed]",
      "text/plain": [
       "<Figure size 432x288 with 1 Axes>"
      ]
     },
     "metadata": {
      "needs_background": "light"
     },
     "output_type": "display_data"
    }
   ],
   "source": [
    "for col_name in col:\n",
    "    if(house[col_name].dtypes=='int64' or house[col_name].dtypes=='float64'):\n",
    "        plt.hist(house[col_name],edgecolor = 'w')\n",
    "        plt.xlabel(col_name)\n",
    "        plt.ylabel('count')\n",
    "        plt.show()"
   ]
  },
  {
   "cell_type": "code",
   "execution_count": 22,
   "id": "91c1d253",
   "metadata": {},
   "outputs": [
    {
     "data": {
      "image/png": "[encoded data removed]",
      "text/plain": [
       "<Figure size 432x288 with 1 Axes>"
      ]
     },
     "metadata": {
      "needs_background": "light"
     },
     "output_type": "display_data"
    },
    {
     "data": {
      "image/png": "[encoded data removed]",
      "text/plain": [
       "<Figure size 432x288 with 1 Axes>"
      ]
     },
     "metadata": {
      "needs_background": "light"
     },
     "output_type": "display_data"
    },
    {
     "data": {
      "image/png": "[encoded data removed]",
      "text/plain": [
       "<Figure size 432x288 with 1 Axes>"
      ]
     },
     "metadata": {
      "needs_background": "light"
     },
     "output_type": "display_data"
    },
    {
     "data": {
      "image/png": "[encoded data removed]",
      "text/plain": [
       "<Figure size 432x288 with 1 Axes>"
      ]
     },
     "metadata": {
      "needs_background": "light"
     },
     "output_type": "display_data"
    },
    {
     "data": {
      "image/png": "[encoded data removed]",
      "text/plain": [
       "<Figure size 432x288 with 1 Axes>"
      ]
     },
     "metadata": {
      "needs_background": "light"
     },
     "output_type": "display_data"
    },
    {
     "data": {
      "image/png": "[encoded data removed]",
      "text/plain": [
       "<Figure size 432x288 with 1 Axes>"
      ]
     },
     "metadata": {
      "needs_background": "light"
     },
     "output_type": "display_data"
    },
    {
     "data": {
      "image/png": "[encoded data removed]",
      "text/plain": [
       "<Figure size 432x288 with 1 Axes>"
      ]
     },
     "metadata": {
      "needs_background": "light"
     },
     "output_type": "display_data"
    },
    {
     "data": {
      "image/png": "[encoded data removed]",
      "text/plain": [
       "<Figure size 432x288 with 1 Axes>"
      ]
     },
     "metadata": {
      "needs_background": "light"
     },
     "output_type": "display_data"
    },
    {
     "data": {
      "image/png": "[encoded data removed]",
      "text/plain": [
       "<Figure size 432x288 with 1 Axes>"
      ]
     },
     "metadata": {
      "needs_background": "light"
     },
     "output_type": "display_data"
    },
    {
     "data": {
      "image/png": "[encoded data removed]",
      "text/plain": [
       "<Figure size 432x288 with 1 Axes>"
      ]
     },
     "metadata": {
      "needs_background": "light"
     },
     "output_type": "display_data"
    },
    {
     "data": {
      "image/png": "[encoded data removed]",
      "text/plain": [
       "<Figure size 432x288 with 1 Axes>"
      ]
     },
     "metadata": {
      "needs_background": "light"
     },
     "output_type": "display_data"
    },
    {
     "data": {
      "image/png": "[encoded data removed]",
      "text/plain": [
       "<Figure size 432x288 with 1 Axes>"
      ]
     },
     "metadata": {
      "needs_background": "light"
     },
     "output_type": "display_data"
    },
    {
     "data": {
      "image/png": "[encoded data removed]",
      "text/plain": [
       "<Figure size 432x288 with 1 Axes>"
      ]
     },
     "metadata": {
      "needs_background": "light"
     },
     "output_type": "display_data"
    },
    {
     "data": {
      "image/png": "[encoded data removed]",
      "text/plain": [
       "<Figure size 432x288 with 1 Axes>"
      ]
     },
     "metadata": {
      "needs_background": "light"
     },
     "output_type": "display_data"
    },
    {
     "data": {
      "image/png": "[encoded data removed]",
      "text/plain": [
       "<Figure size 432x288 with 1 Axes>"
      ]
     },
     "metadata": {
      "needs_background": "light"
     },
     "output_type": "display_data"
    },
    {
     "data": {
      "image/png": "[encoded data removed]",
      "text/plain": [
       "<Figure size 432x288 with 1 Axes>"
      ]
     },
     "metadata": {
      "needs_background": "light"
     },
     "output_type": "display_data"
    },
    {
     "data": {
      "image/png": "[encoded data removed]",
      "text/plain": [
       "<Figure size 432x288 with 1 Axes>"
      ]
     },
     "metadata": {
      "needs_background": "light"
     },
     "output_type": "display_data"
    },
    {
     "data": {
      "image/png": "[encoded data removed]",
      "text/plain": [
       "<Figure size 432x288 with 1 Axes>"
      ]
     },
     "metadata": {
      "needs_background": "light"
     },
     "output_type": "display_data"
    },
    {
     "data": {
      "image/png": "[encoded data removed]",
      "text/plain": [
       "<Figure size 432x288 with 1 Axes>"
      ]
     },
     "metadata": {
      "needs_background": "light"
     },
     "output_type": "display_data"
    },
    {
     "data": {
      "image/png": "[encoded data removed]",
      "text/plain": [
       "<Figure size 432x288 with 1 Axes>"
      ]
     },
     "metadata": {
      "needs_background": "light"
     },
     "output_type": "display_data"
    }
   ],
   "source": [
    "for col_name in col:\n",
    "    if(house[col_name].dtypes=='int64' or house[col_name].dtypes=='float64'):\n",
    "        plt.boxplot(house[col_name])\n",
    "        plt.xlabel(col_name)\n",
    "        plt.ylabel('count')\n",
    "        plt.show()"
   ]
  },
  {
   "cell_type": "code",
   "execution_count": null,
   "id": "7419f4dd",
   "metadata": {},
   "outputs": [],
   "source": []
  },
  {
   "cell_type": "code",
   "execution_count": 23,
   "id": "4a67b52b",
   "metadata": {},
   "outputs": [
    {
     "data": {
      "text/plain": [
       "(21613, 21)"
      ]
     },
     "execution_count": 23,
     "metadata": {},
     "output_type": "execute_result"
    }
   ],
   "source": [
    "house.shape"
   ]
  },
  {
   "cell_type": "code",
   "execution_count": 24,
   "id": "2922d437",
   "metadata": {},
   "outputs": [
    {
     "name": "stderr",
     "output_type": "stream",
     "text": [
      "C:\\Users\\jijin\\Anaconda3\\lib\\site-packages\\statsmodels\\stats\\outliers_influence.py:195: RuntimeWarning: divide by zero encountered in double_scalars\n",
      "  vif = 1. / (1. - r_squared_i)\n"
     ]
    },
    {
     "name": "stdout",
     "output_type": "stream",
     "text": [
      "          feature       VIF\n",
      "0              id  3.631516\n",
      "1        bedrooms  1.646296\n",
      "2       bathrooms  3.350310\n",
      "3     sqft_living       inf\n",
      "4        sqft_lot  2.104055\n",
      "5          floors  1.951001\n",
      "6      waterfront  1.203729\n",
      "7            view  1.420035\n",
      "8       condition  1.220353\n",
      "9           grade  3.394319\n",
      "10     sqft_above       inf\n",
      "11  sqft_basement       inf\n",
      "12       yr_built  2.128890\n",
      "13   yr_renovated  1.144733\n",
      "14        zipcode  0.486697\n",
      "15            lat  1.180261\n",
      "16           long  1.810062\n",
      "17  sqft_living15  2.882937\n",
      "18     sqft_lot15  2.142654\n"
     ]
    }
   ],
   "source": [
    "from statsmodels.stats.outliers_influence import variance_inflation_factor \n",
    "col_list = []\n",
    "for col in house.columns:\n",
    "    if ((house[col].dtype != 'object') & (col != 'price') ):\n",
    "        col_list.append(col)\n",
    "\n",
    "X = house[col_list]\n",
    "vif_data = pd.DataFrame() \n",
    "vif_data[\"feature\"] = X.columns \n",
    "vif_data[\"VIF\"] = [variance_inflation_factor(X.values, i) for i in range(len(X.columns))] \n",
    "print(vif_data)"
   ]
  },
  {
   "cell_type": "code",
   "execution_count": 25,
   "id": "e2d04ebf",
   "metadata": {},
   "outputs": [],
   "source": [
    "house=house.drop(['sqft_living'], axis=1)"
   ]
  },
  {
   "cell_type": "code",
   "execution_count": 26,
   "id": "5a88ef99",
   "metadata": {},
   "outputs": [],
   "source": [
    "#VIF\n",
    "\n",
    "from statsmodels.stats.outliers_influence import variance_inflation_factor \n",
    "col_list = []\n",
    "for col in house.columns:\n",
    "    if ((house[col].dtype != 'object') & (col != 'price') ):#only num cols except for the charges column\n",
    "        col_list.append(col)"
   ]
  },
  {
   "cell_type": "code",
   "execution_count": 27,
   "id": "737a6b9c",
   "metadata": {},
   "outputs": [
    {
     "data": {
      "text/plain": [
       "['id',\n",
       " 'bedrooms',\n",
       " 'bathrooms',\n",
       " 'sqft_lot',\n",
       " 'floors',\n",
       " 'waterfront',\n",
       " 'view',\n",
       " 'condition',\n",
       " 'grade',\n",
       " 'sqft_above',\n",
       " 'sqft_basement',\n",
       " 'yr_built',\n",
       " 'yr_renovated',\n",
       " 'zipcode',\n",
       " 'lat',\n",
       " 'long',\n",
       " 'sqft_living15',\n",
       " 'sqft_lot15']"
      ]
     },
     "execution_count": 27,
     "metadata": {},
     "output_type": "execute_result"
    }
   ],
   "source": [
    "col_list"
   ]
  },
  {
   "cell_type": "code",
   "execution_count": 28,
   "id": "53ee2cff",
   "metadata": {},
   "outputs": [],
   "source": [
    "x=house.loc[:,col_list]\n",
    "y=house.loc[:,['price']]"
   ]
  },
  {
   "cell_type": "code",
   "execution_count": 29,
   "id": "c926f908",
   "metadata": {},
   "outputs": [],
   "source": [
    "x_train, x_test, y_train, y_test=train_test_split(x,y,train_size=0.8, random_state=0)"
   ]
  },
  {
   "cell_type": "code",
   "execution_count": 30,
   "id": "55f24530",
   "metadata": {},
   "outputs": [
    {
     "data": {
      "text/plain": [
       "LinearRegression()"
      ]
     },
     "execution_count": 30,
     "metadata": {},
     "output_type": "execute_result"
    }
   ],
   "source": [
    "l_model=linear_model.LinearRegression()\n",
    "l_model.fit(x_train, y_train)"
   ]
  },
  {
   "cell_type": "code",
   "execution_count": 31,
   "id": "dd6b614d",
   "metadata": {},
   "outputs": [
    {
     "data": {
      "text/plain": [
       "0.695159864554403"
      ]
     },
     "execution_count": 31,
     "metadata": {},
     "output_type": "execute_result"
    }
   ],
   "source": [
    "predictions=l_model.predict(x_test)\n",
    "from sklearn.metrics import *\n",
    "pred=l_model.predict(x_test)\n",
    "r2=r2_score(y_test, pred)\n",
    "r2"
   ]
  },
  {
   "cell_type": "markdown",
   "id": "c02c9bec",
   "metadata": {},
   "source": [
    "# The exercise after this contains questions that are based on\n",
    "the housing dataset."
   ]
  },
  {
   "cell_type": "markdown",
   "id": "485d45fc",
   "metadata": {},
   "source": [
    "10. How many houses have a waterfront?\n",
    "a. 21000\n",
    "b. 21450\n",
    "c. 163\n",
    "d. 173\n",
    "\n",
    "Ans:c. 163"
   ]
  },
  {
   "cell_type": "code",
   "execution_count": 32,
   "id": "66edd8b8",
   "metadata": {},
   "outputs": [
    {
     "data": {
      "text/plain": [
       "waterfront\n",
       "0    21450\n",
       "1      163\n",
       "Name: id, dtype: int64"
      ]
     },
     "execution_count": 32,
     "metadata": {},
     "output_type": "execute_result"
    }
   ],
   "source": [
    "house.groupby(['waterfront']).count()['id']"
   ]
  },
  {
   "cell_type": "markdown",
   "id": "a3abe783",
   "metadata": {},
   "source": [
    "11. How many houses have 2 floors?\n",
    "a. 2692\n",
    "b. 8241\n",
    "c. 10680\n",
    "d. 161\n",
    "\n",
    "Ans: b. 8241"
   ]
  },
  {
   "cell_type": "code",
   "execution_count": 33,
   "id": "0780c030",
   "metadata": {},
   "outputs": [
    {
     "data": {
      "text/plain": [
       "8241"
      ]
     },
     "execution_count": 33,
     "metadata": {},
     "output_type": "execute_result"
    }
   ],
   "source": [
    "house[house.floors==2].count()['id']"
   ]
  },
  {
   "cell_type": "markdown",
   "id": "2524ad8e",
   "metadata": {},
   "source": [
    "12. How many houses built before 1960 have a waterfront?\n",
    "\n",
    "\n",
    "Ans :a. 80\n",
    "b. 7309\n",
    "c. 90\n",
    "d. 92\n",
    "\n",
    "Ans :a. 80"
   ]
  },
  {
   "cell_type": "code",
   "execution_count": 34,
   "id": "6ebd0d50",
   "metadata": {},
   "outputs": [
    {
     "data": {
      "text/plain": [
       "80"
      ]
     },
     "execution_count": 34,
     "metadata": {},
     "output_type": "execute_result"
    }
   ],
   "source": [
    "house[(house.yr_built<1960)&(house.waterfront==1)].count()['id']"
   ]
  },
  {
   "cell_type": "markdown",
   "id": "8de2de60",
   "metadata": {},
   "source": [
    "13. What is the price of the most expensive house having more than 4\n",
    "bathrooms?\n",
    "a. 7700000\n",
    "b. 187000\n",
    "c. 290000\n",
    "d. 399000\n",
    "\n",
    "Ans : a. 7700000"
   ]
  },
  {
   "cell_type": "code",
   "execution_count": 35,
   "id": "2eef4613",
   "metadata": {},
   "outputs": [
    {
     "data": {
      "text/plain": [
       "7252     7700000\n",
       "3914     7062500\n",
       "9254     6885000\n",
       "4411     5570000\n",
       "1448     5350000\n",
       "          ...   \n",
       "9114      350000\n",
       "20984     343000\n",
       "21186     303500\n",
       "16803     300000\n",
       "8914      290000\n",
       "Name: price, Length: 266, dtype: int64"
      ]
     },
     "execution_count": 35,
     "metadata": {},
     "output_type": "execute_result"
    }
   ],
   "source": [
    "house[house.bathrooms>4].sort_values('price',ascending=False)['price']"
   ]
  },
  {
   "cell_type": "markdown",
   "id": "3b98d27b",
   "metadata": {},
   "source": [
    "14. The image shown below shows the boxplot of the price column from the housing\n",
    "dataset. What inferences can you make from the plot?\n",
    "a. The price column is normally distributed.\n",
    "b. There might be high chances of price data having null values.\n",
    "c. There is a presence of outliers in the price data.\n",
    "d. There is no presence of outliers in the price data.\n",
    "\n",
    "Ans : c. There is a presence of outliers in the price data."
   ]
  },
  {
   "cell_type": "code",
   "execution_count": 36,
   "id": "68dbd73a",
   "metadata": {},
   "outputs": [
    {
     "data": {
      "text/plain": [
       "{'whiskers': [<matplotlib.lines.Line2D at 0x1ddfc2470d0>,\n",
       "  <matplotlib.lines.Line2D at 0x1ddfc2473a0>],\n",
       " 'caps': [<matplotlib.lines.Line2D at 0x1ddfc247670>,\n",
       "  <matplotlib.lines.Line2D at 0x1ddfc247940>],\n",
       " 'boxes': [<matplotlib.lines.Line2D at 0x1ddfc269dc0>],\n",
       " 'medians': [<matplotlib.lines.Line2D at 0x1ddfc247c10>],\n",
       " 'fliers': [<matplotlib.lines.Line2D at 0x1ddfc247ee0>],\n",
       " 'means': []}"
      ]
     },
     "execution_count": 36,
     "metadata": {},
     "output_type": "execute_result"
    },
    {
     "data": {
      "image/png": "[encoded data removed]",
      "text/plain": [
       "<Figure size 432x288 with 1 Axes>"
      ]
     },
     "metadata": {
      "needs_background": "light"
     },
     "output_type": "display_data"
    }
   ],
   "source": [
    "plt.boxplot(house['price'],vert=False)"
   ]
  },
  {
   "cell_type": "markdown",
   "id": "cde57b0f",
   "metadata": {},
   "source": [
    "15. For instance, if the ‘price’ column consists of outliers, how can you make the data clean\n",
    "and remove the redundancies?\n",
    "a. Calculate the IQR range and drop the values outside the range.\n",
    "b. Calculate the p-value and remove the values less than 0.05.\n",
    "c. Calculate the correlation coefficient of the price column and remove the values less than\n",
    "the correlation coefficient.\n",
    "d. Calculate the Z-score of the price column and remove the values less than the z-score.\n",
    "\n",
    "Ans : a. Calculate the IQR range and drop the values outside the range."
   ]
  },
  {
   "cell_type": "markdown",
   "id": "d3b32d2e",
   "metadata": {},
   "source": [
    "16. What are the various parameters that can be used to determine the dependent variables\n",
    "in the housing data to determine the price of the house?\n",
    "a. Correlation coefficients\n",
    "b. Z-score\n",
    "c. IQR Range\n",
    "d. Range of the Features\n",
    "\n",
    "Ans : a. Correlation coefficients"
   ]
  },
  {
   "cell_type": "markdown",
   "id": "1c4baa97",
   "metadata": {},
   "source": [
    "17. If we get the r2 score as 0.38, what inferences can we make about the model and\n",
    "its efficiency?\n",
    "a. The model is 38% accurate, and shows poor efficiency.\n",
    "b. The model is showing 0.38% discrepancies in the outcomes.\n",
    "c. Low difference between observed and fitted values.\n",
    "d. High difference between observed and fitted values.\n",
    "\n",
    "Ans : a. The model is 38% accurate, and shows poor efficiency"
   ]
  },
  {
   "cell_type": "markdown",
   "id": "64dae233",
   "metadata": {},
   "source": [
    "18. If the metrics show that the p-value for the grade column is 0.092, what all inferences\n",
    "can we make about the grade column?\n",
    "a. Significant in presence of other variables.\n",
    "b. Highly significant in presence of other variables\n",
    "c. insignificance in presence of other variables\n",
    "d. None of the above\n",
    "\n",
    "Ans : d. None of the above"
   ]
  },
  {
   "cell_type": "markdown",
   "id": "810b24aa",
   "metadata": {},
   "source": [
    "19. If the Variance Inflation Factor value for a feature is considerably higher than the\n",
    "other features, what can we say about that column/feature?\n",
    "a. High multicollinearity\n",
    "b. Low multicollinearity\n",
    "c. Both A and B\n",
    "d. None of the above\n",
    "\n",
    "Ans : High multicollinearity"
   ]
  },
  {
   "cell_type": "code",
   "execution_count": null,
   "id": "b9dfa604",
   "metadata": {},
   "outputs": [],
   "source": [
    "\n",
    "\n",
    "\n"
   ]
  },
  {
   "cell_type": "code",
   "execution_count": null,
   "id": "06ebfa54",
   "metadata": {},
   "outputs": [],
   "source": []
  },
  {
   "cell_type": "code",
   "execution_count": null,
   "id": "d380e9a3",
   "metadata": {},
   "outputs": [],
   "source": []
  },
  {
   "cell_type": "code",
   "execution_count": null,
   "id": "e45f3955",
   "metadata": {},
   "outputs": [],
   "source": []
  }
 ],
 "metadata": {
  "kernelspec": {
   "display_name": "Python 3 (ipykernel)",
   "language": "python",
   "name": "python3"
  },
  "language_info": {
   "codemirror_mode": {
    "name": "ipython",
    "version": 3
   },
   "file_extension": ".py",
   "mimetype": "text/x-python",
   "name": "python",
   "nbconvert_exporter": "python",
   "pygments_lexer": "ipython3",
   "version": "3.9.12"
  }
 },
 "nbformat": 4,
 "nbformat_minor": 5
}
