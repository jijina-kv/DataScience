{
 "cells": [
  {
   "cell_type": "markdown",
   "id": "2bde95ef",
   "metadata": {},
   "source": [
    "# Problem Statement:\n",
    "You have been provided with a multi dimensional data that contains information on certain\n",
    "images. Using machine learning, you should be able to predict the images on the new set of\n",
    "data using the model that you have trained on the existing data.\n",
    "Dataset Information:\n",
    "Each point in the data is an 8x8 image.\n",
    "Classes 10\n",
    "Samples per class ~180\n",
    "Samples total 1797\n",
    "Dimensionality 64\n",
    "Features integers 0-16\n",
    "Note: Load the dataset from sklearn.datasets.load_digits()"
   ]
  },
  {
   "cell_type": "markdown",
   "id": "cf34c62a",
   "metadata": {},
   "source": [
    "Q1. What will be the output of the following code?\n",
    "from sklearn import dataset\n",
    "digits = datasets.load_digits()\n",
    "1. Digits data from the sklearn module\n",
    "2. Import error\n",
    "3. Value error\n",
    "4. Digits data in a pandas dataframe\n",
    "\n",
    "Ans : 2. Import error"
   ]
  },
  {
   "cell_type": "code",
   "execution_count": 2,
   "id": "17c6e79c",
   "metadata": {},
   "outputs": [
    {
     "ename": "ImportError",
     "evalue": "cannot import name 'dataset' from 'sklearn' (C:\\Users\\jijin\\Anaconda3\\lib\\site-packages\\sklearn\\__init__.py)",
     "output_type": "error",
     "traceback": [
      "\u001b[1;31m---------------------------------------------------------------------------\u001b[0m",
      "\u001b[1;31mImportError\u001b[0m                               Traceback (most recent call last)",
      "Input \u001b[1;32mIn [2]\u001b[0m, in \u001b[0;36m<cell line: 1>\u001b[1;34m()\u001b[0m\n\u001b[1;32m----> 1\u001b[0m \u001b[38;5;28;01mfrom\u001b[39;00m \u001b[38;5;21;01msklearn\u001b[39;00m \u001b[38;5;28;01mimport\u001b[39;00m dataset\n\u001b[0;32m      2\u001b[0m digits \u001b[38;5;241m=\u001b[39m datasets\u001b[38;5;241m.\u001b[39mload_digits()\n",
      "\u001b[1;31mImportError\u001b[0m: cannot import name 'dataset' from 'sklearn' (C:\\Users\\jijin\\Anaconda3\\lib\\site-packages\\sklearn\\__init__.py)"
     ]
    }
   ],
   "source": [
    "from sklearn import dataset\n",
    "digits = datasets.load_digits()"
   ]
  },
  {
   "cell_type": "code",
   "execution_count": 6,
   "id": "0db3e9f5",
   "metadata": {},
   "outputs": [],
   "source": [
    "from sklearn import datasets\n",
    "digits = datasets.load_digits()\n"
   ]
  },
  {
   "cell_type": "code",
   "execution_count": null,
   "id": "3600233b",
   "metadata": {},
   "outputs": [],
   "source": [
    "digits.images"
   ]
  },
  {
   "cell_type": "markdown",
   "id": "e1f45cb2",
   "metadata": {},
   "source": [
    "Q2. If we split the data in a ratio of 80% training and 20% testing data, what will be the correct\n",
    "code for the same?\n",
    "1. X_train, X_test, y_train, y_test = train_test_split(X, y, test_size=20, random_state=42)\n",
    "2. X_train, X_test, y_train, y_test = train_test_split(X, y, test_size=80, random_state=42)\n",
    "3. X_train, X_test, y_train, y_test = train_test_split(X, y, test_size=0.2, random_state=42)\n",
    "4. X_train, X_test, y_train, y_test = train_test_split(X, y, test_size=80:20, random_state=42)\n",
    "\n",
    "Ans : 3. X_train, X_test, y_train, y_test = train_test_split(X, y, test_size=0.2, random_state=42)\n"
   ]
  },
  {
   "cell_type": "code",
   "execution_count": 8,
   "id": "43a2123e",
   "metadata": {},
   "outputs": [],
   "source": [
    "X = digits.data\n",
    "y = digits.target"
   ]
  },
  {
   "cell_type": "code",
   "execution_count": 10,
   "id": "0d2fd5be",
   "metadata": {},
   "outputs": [],
   "source": [
    "from sklearn import model_selection"
   ]
  },
  {
   "cell_type": "code",
   "execution_count": 12,
   "id": "22fa78db",
   "metadata": {},
   "outputs": [],
   "source": [
    " X_train, X_test, y_train, y_test = model_selection.train_test_split(X, y, test_size=0.2, random_state=42)"
   ]
  },
  {
   "cell_type": "markdown",
   "id": "fea528ba",
   "metadata": {},
   "source": [
    "Q3. In the train_test_split, if we keep the random_state = 1, what does it mean for our training\n",
    "and testing data?\n",
    "1. Everytime the new random values are generated in the test and train sets\n",
    "2. The values will be the same every time the code is executed in the testing and training\n",
    "sets.\n",
    "3. None of the Above\n",
    "4. Both 1 and 2.\n",
    "\n",
    "\n",
    "Ans : 2. The values will be the same every time the code is executed in the testing and training\n",
    "sets."
   ]
  },
  {
   "cell_type": "code",
   "execution_count": null,
   "id": "701ffab7",
   "metadata": {},
   "outputs": [],
   "source": []
  },
  {
   "cell_type": "markdown",
   "id": "4a4abff3",
   "metadata": {},
   "source": [
    "Q4. In the code below, where we standardize the data, we have used the fit_transform() for the\n",
    "training sample, and transform() for the testing sample, why?\n",
    "1. We use the same mean and variance calculated on the training data to fit the test data\n",
    "2. The methods distinguish between the variance of each class\n",
    "3. The methods distinguish between mean and standard deviation of each class.\n",
    "4. None of the above\n",
    "\n",
    "sc=StandardScaler()\n",
    "x_train=sc.fit_transform(x_train)\n",
    "x_test=sc.transform(x_test)\n",
    "\n",
    "Ans : 1. We use the same mean and variance calculated on the training data to fit the test data\n"
   ]
  },
  {
   "cell_type": "code",
   "execution_count": 16,
   "id": "abef3bfb",
   "metadata": {},
   "outputs": [],
   "source": [
    "from sklearn.preprocessing import StandardScaler\n",
    "sc=StandardScaler()\n",
    "x_train=sc.fit_transform(X_train)\n",
    "x_test=sc.transform(X_test)"
   ]
  },
  {
   "cell_type": "markdown",
   "id": "125ecd8c",
   "metadata": {},
   "source": [
    "Q5. Find the mistake in the code below?\n",
    "lda = LinearDiscriminantAnalysis(n_components=9)\n",
    "X_train = lda.fit_transform(X_train)\n",
    "X_test = lda.transform(X_test)\n",
    "1. Fit_transform() must include the y_train.\n",
    "2. transform() must include the y_train.\n",
    "3. None of the above\n",
    "4. Both 1 and 2\n",
    "\n",
    "Ans : 1. Fit_transform() must include the y_train."
   ]
  },
  {
   "cell_type": "code",
   "execution_count": 18,
   "id": "b031732f",
   "metadata": {},
   "outputs": [],
   "source": [
    "from sklearn.discriminant_analysis import LinearDiscriminantAnalysis\n",
    "lda = LinearDiscriminantAnalysis(n_components=9)\n",
    "X_train = lda.fit_transform(X_train,y_train)\n",
    "X_test = lda.transform(X_test)"
   ]
  },
  {
   "cell_type": "markdown",
   "id": "99fbb02d",
   "metadata": {},
   "source": [
    "Q6. What is the shape of the data after standardizing the training and testing data?\n",
    "1. (1437,64)\n",
    "2. (1797,64)\n",
    "3. (1437,9)\n",
    "4. (1437,)\n",
    "\n",
    "\n",
    "Ans : 3. (1437,9)"
   ]
  },
  {
   "cell_type": "code",
   "execution_count": 28,
   "id": "1c94baab",
   "metadata": {},
   "outputs": [
    {
     "data": {
      "text/plain": [
       "(1437, 9)"
      ]
     },
     "execution_count": 28,
     "metadata": {},
     "output_type": "execute_result"
    }
   ],
   "source": [
    "X_train.shape "
   ]
  },
  {
   "cell_type": "markdown",
   "id": "6a8e56fb",
   "metadata": {},
   "source": [
    "Q7. What is the mistake in the code below?\n",
    "lda = LinearDiscriminantAnalysis(n_components=9)\n",
    "X_train = lda.fit_transform(X_train, X_test)\n",
    "X_test = lda.transform(X_test)\n",
    "1. X_test instead of y_train in fit_transform()\n",
    "2. X_test instead of y_train in transform()\n",
    "3. n_components = 9 is incorrect\n",
    "4. X_test instead of y_test in transform()\n",
    "\n",
    "Ans : 1. X_test instead of y_train in fit_transform()"
   ]
  },
  {
   "cell_type": "markdown",
   "id": "2591dd5c",
   "metadata": {},
   "source": [
    "Q8. How do you decide the n_components in the LinearDiscriminantAnalaysis()?\n",
    "1. Correlation coefficient\n",
    "2. variation inflation factor\n",
    "3. explained_variance_ratio\n",
    "4. None of the above\n",
    "\n",
    "Ans : 3. explained_variance_ratio"
   ]
  },
  {
   "cell_type": "markdown",
   "id": "ddb5d86f",
   "metadata": {},
   "source": [
    "Q9. If we keep the n_components as 15 in the LDA, what will be the shape of the data?\n",
    "1. (1797,15)\n",
    "2. (15,15)\n",
    "3. (15,)\n",
    "4. (1437, 15)\n",
    "\n",
    "\n",
    "Ans : 4. (1437, 15)"
   ]
  },
  {
   "cell_type": "markdown",
   "id": "d06e1e61",
   "metadata": {},
   "source": [
    "Q10. After performing LDA on the standardized data, with n_components= 9, Create a random\n",
    "forest classifier to fit the new data with n_estimators= 100, and random_state same as used in\n",
    "train_test_split. After the above operation, what will be the accuracy score of the model?\n",
    "1. 0.75\n",
    "2. 0.85\n",
    "3. 0.95\n",
    "4. 0.98\n",
    "\n",
    "Ans : 3. 0.95"
   ]
  },
  {
   "cell_type": "code",
   "execution_count": 30,
   "id": "e9bcdbe4",
   "metadata": {},
   "outputs": [
    {
     "name": "stdout",
     "output_type": "stream",
     "text": [
      "0.9527777777777777\n"
     ]
    }
   ],
   "source": [
    "from sklearn.ensemble import RandomForestClassifier\n",
    "rf1 = RandomForestClassifier(n_estimators=100, random_state=42)\n",
    "rf1.fit(X_train, y_train)\n",
    "y_pred1 = rf1.predict(X_test)\n",
    "\n",
    "from sklearn.metrics import accuracy_score, classification_report, confusion_matrix\n",
    "\n",
    "acc = accuracy_score(y_test, y_pred1)\n",
    "cf = confusion_matrix(y_test, y_pred1)\n",
    "clrep = classification_report(y_test, y_pred1)\n",
    "\n",
    "print(acc)"
   ]
  },
  {
   "cell_type": "markdown",
   "id": "d945ab31",
   "metadata": {},
   "source": [
    "Q11. Identify the mistake in the code below.\n",
    "\n",
    "from sklearn.ensemble import RandomForestClassifier\n",
    "rf = RandomForestClassifier(n_estimators=100, random_state=42)\n",
    "rf.fit(X_train, X_test)\n",
    "\n",
    "1. X_test instead of y_test\n",
    "2. X_test instead of y_train\n",
    "3. X_test instead of n_components = 9\n",
    "4. Missing parameter - random_state=42\n",
    "\n",
    "Ans : 2. X_test instead of y_train\n",
    "\n",
    "\n"
   ]
  },
  {
   "cell_type": "markdown",
   "id": "04a5ff5e",
   "metadata": {},
   "source": [
    "Q12. What percentage of positive cases was the model able to catch for class 6?\n",
    "1. 100\n",
    "2. 97\n",
    "3. 35\n",
    "4. 99\n",
    "\n",
    "Ans : 1. 100"
   ]
  },
  {
   "cell_type": "code",
   "execution_count": 31,
   "id": "26636b5d",
   "metadata": {},
   "outputs": [
    {
     "name": "stdout",
     "output_type": "stream",
     "text": [
      "[[31  0  0  1  1  0  0  0  0  0]\n",
      " [ 0 26  2  0  0  0  0  0  0  0]\n",
      " [ 0  0 32  1  0  0  0  0  0  0]\n",
      " [ 0  0  0 33  0  1  0  0  0  0]\n",
      " [ 0  0  0  0 45  0  0  1  0  0]\n",
      " [ 0  0  1  0  0 45  0  0  0  1]\n",
      " [ 0  0  0  0  1  0 34  0  0  0]\n",
      " [ 0  0  0  0  0  0  0 33  0  1]\n",
      " [ 0  2  0  0  0  0  0  0 27  1]\n",
      " [ 0  0  0  1  1  0  0  0  1 37]]\n"
     ]
    }
   ],
   "source": [
    "print(cf)"
   ]
  },
  {
   "cell_type": "code",
   "execution_count": 32,
   "id": "e22b9e0c",
   "metadata": {},
   "outputs": [
    {
     "name": "stdout",
     "output_type": "stream",
     "text": [
      "              precision    recall  f1-score   support\n",
      "\n",
      "           0       1.00      0.94      0.97        33\n",
      "           1       0.93      0.93      0.93        28\n",
      "           2       0.91      0.97      0.94        33\n",
      "           3       0.92      0.97      0.94        34\n",
      "           4       0.94      0.98      0.96        46\n",
      "           5       0.98      0.96      0.97        47\n",
      "           6       1.00      0.97      0.99        35\n",
      "           7       0.97      0.97      0.97        34\n",
      "           8       0.96      0.90      0.93        30\n",
      "           9       0.93      0.93      0.93        40\n",
      "\n",
      "    accuracy                           0.95       360\n",
      "   macro avg       0.95      0.95      0.95       360\n",
      "weighted avg       0.95      0.95      0.95       360\n",
      "\n"
     ]
    }
   ],
   "source": [
    "print(clrep)"
   ]
  },
  {
   "cell_type": "markdown",
   "id": "46c5b25b",
   "metadata": {},
   "source": [
    "Q13. What percentage of the predictions were true for class 5?\n",
    "1. 96\n",
    "2. 47\n",
    "3. 98\n",
    "4. 0.98\n",
    "\n",
    "Ans . 3. 98\n",
    "\n",
    "\n"
   ]
  },
  {
   "cell_type": "markdown",
   "id": "2fb72c88",
   "metadata": {},
   "source": [
    "14. What percentage of positive predictions were correct for class 3?\n",
    "1. 34\n",
    "2. 92\n",
    "3. 97\n",
    "4. 94\n",
    "\n",
    "Ans : 2. 92\n"
   ]
  }
 ],
 "metadata": {
  "kernelspec": {
   "display_name": "Python 3 (ipykernel)",
   "language": "python",
   "name": "python3"
  },
  "language_info": {
   "codemirror_mode": {
    "name": "ipython",
    "version": 3
   },
   "file_extension": ".py",
   "mimetype": "text/x-python",
   "name": "python",
   "nbconvert_exporter": "python",
   "pygments_lexer": "ipython3",
   "version": "3.9.12"
  }
 },
 "nbformat": 4,
 "nbformat_minor": 5
}
