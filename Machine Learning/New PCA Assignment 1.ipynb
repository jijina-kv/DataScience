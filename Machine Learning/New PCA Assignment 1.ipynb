{
 "cells": [
  {
   "cell_type": "markdown",
   "id": "96386d06",
   "metadata": {},
   "source": [
    "1.PCA is ________?\n",
    "A. Unsupervised\n",
    "B. Supervised\n",
    "C. Semisupervised\n",
    "D. None of the above\n",
    "\n",
    "\n",
    "Ans : A. Unsupervised"
   ]
  },
  {
   "cell_type": "markdown",
   "id": "fd7a0ae3",
   "metadata": {},
   "source": [
    "2. Why is PCA needed in the Data Science field?\n",
    "A. Data Visualization\n",
    "B. In Dimensionality Reduction\n",
    "C. Data Manipulation\n",
    "D. All of the Above\n",
    "\n",
    "Ans : B. In Dimensionality Reduction\n"
   ]
  },
  {
   "cell_type": "code",
   "execution_count": 1,
   "id": "7844be5f",
   "metadata": {},
   "outputs": [],
   "source": [
    "import numpy as np\n",
    "import pandas as pd\n",
    "from sklearn import datasets\n",
    "from sklearn.preprocessing import StandardScaler\n"
   ]
  },
  {
   "cell_type": "code",
   "execution_count": 2,
   "id": "93c0bbc0",
   "metadata": {},
   "outputs": [],
   "source": [
    "digits=datasets.load_digits()\n",
    "x=digits.data\n",
    "y=digits.target"
   ]
  },
  {
   "cell_type": "markdown",
   "id": "80029504",
   "metadata": {},
   "source": [
    "3. Extract only features and scale the data using StandardScaler() , compute min covariance?\n",
    "A. -0.5705\n",
    "B. -1\n",
    "C. 0.1\n",
    "D. None of the above\n",
    "\n",
    "Ans : A. -0.5705"
   ]
  },
  {
   "cell_type": "code",
   "execution_count": 3,
   "id": "e8896b40",
   "metadata": {},
   "outputs": [
    {
     "data": {
      "text/plain": [
       "-0.57051363323811"
      ]
     },
     "execution_count": 3,
     "metadata": {},
     "output_type": "execute_result"
    }
   ],
   "source": [
    "sc=StandardScaler()\n",
    "x_scaled=sc.fit_transform(x)\n",
    "cov_mat=np.cov(x_scaled.T)\n",
    "cov_mat.min()"
   ]
  },
  {
   "cell_type": "markdown",
   "id": "5bf94660",
   "metadata": {},
   "source": [
    "4. Extract only features and scale the data using StandardScaler() , how many eigen_values will\n",
    "be calculated?\n",
    "A. 1\n",
    "B. 64\n",
    "C. 1797\n",
    "D. 0\n",
    "\n",
    "Ans : B. 64"
   ]
  },
  {
   "cell_type": "code",
   "execution_count": 4,
   "id": "2b880553",
   "metadata": {},
   "outputs": [],
   "source": [
    "\n",
    "eig_vals, eig_vecs = np.linalg.eig(cov_mat)"
   ]
  },
  {
   "cell_type": "code",
   "execution_count": 5,
   "id": "35e986d5",
   "metadata": {},
   "outputs": [
    {
     "data": {
      "text/plain": [
       "(64,)"
      ]
     },
     "execution_count": 5,
     "metadata": {},
     "output_type": "execute_result"
    }
   ],
   "source": [
    "eig_vals.shape"
   ]
  },
  {
   "cell_type": "markdown",
   "id": "6c31b7f6",
   "metadata": {},
   "source": [
    "5. from the above eigenvalues and eigenvectors, create eigenpair and calculate maximum\n",
    "cumulative explained variance?\n",
    "A. 100\n",
    "B. 90\n",
    "C. 80\n",
    "D. 69\n",
    "\n",
    "Ans : A. 100"
   ]
  },
  {
   "cell_type": "code",
   "execution_count": 6,
   "id": "3bd71a8b",
   "metadata": {
    "scrolled": true
   },
   "outputs": [
    {
     "data": {
      "text/plain": [
       "[12.03391609773492,\n",
       " 9.56105440309786,\n",
       " 8.444414892624536,\n",
       " 6.498407907524184,\n",
       " 4.8601548759663995,\n",
       " 4.214119869271945,\n",
       " 3.9420828035673696,\n",
       " 3.3893809246383597,\n",
       " 2.9982210116252483,\n",
       " 2.9320025512522196,\n",
       " 2.7818054635503233,\n",
       " 2.5770550925819937,\n",
       " 2.275303315764248,\n",
       " 2.2271797395143507,\n",
       " 2.165229431849245,\n",
       " 1.9141666064421279,\n",
       " 1.775547085168197,\n",
       " 1.638069274284421,\n",
       " 1.596460168862351,\n",
       " 1.4891911870878172,\n",
       " 1.3479695658179434,\n",
       " 1.2719313702347579,\n",
       " 1.1658373505919493,\n",
       " 1.057646598536324,\n",
       " 0.9753159471981101,\n",
       " 0.9445589897319969,\n",
       " 0.8630138269707207,\n",
       " 0.8366428536685153,\n",
       " 0.7976932484112406,\n",
       " 0.7464713709260608,\n",
       " 0.7255821513702747,\n",
       " 0.691911245481182,\n",
       " 0.6539085355726193,\n",
       " 0.6407925738459858,\n",
       " 0.5913841117223411,\n",
       " 0.5711624052235243,\n",
       " 0.523636803416638,\n",
       " 0.48180758644514254,\n",
       " 0.45371925985845096,\n",
       " 0.42316275323277974,\n",
       " 0.406053069979039,\n",
       " 0.3970848082758284,\n",
       " 0.35649330314261735,\n",
       " 0.3407871814702998,\n",
       " 0.3278353352879544,\n",
       " 0.31103200734535674,\n",
       " 0.2885752941089343,\n",
       " 0.27648926352354497,\n",
       " 0.2591749408814646,\n",
       " 0.23448300553563461,\n",
       " 0.21825685771200815,\n",
       " 0.20359763452537635,\n",
       " 0.19551242601981872,\n",
       " 0.18331849919718254,\n",
       " 0.16794638749558352,\n",
       " 0.16123606225673037,\n",
       " 0.14776269410608803,\n",
       " 0.13511841133708552,\n",
       " 0.125100742497302,\n",
       " 0.10369573015571894,\n",
       " 0.08253509448180331,\n",
       " 0.0,\n",
       " 0.0,\n",
       " 0.0]"
      ]
     },
     "execution_count": 6,
     "metadata": {},
     "output_type": "execute_result"
    }
   ],
   "source": [
    "tot = sum(eig_vals)\n",
    "var_exp = [(i/tot)*100 for i in sorted(eig_vals, reverse=True)] # Individual explained variance\n",
    "var_exp"
   ]
  },
  {
   "cell_type": "code",
   "execution_count": 7,
   "id": "384bc9ee",
   "metadata": {},
   "outputs": [
    {
     "data": {
      "text/plain": [
       "array([ 12.0339161 ,  21.5949705 ,  30.03938539,  36.5377933 ,\n",
       "        41.39794818,  45.61206805,  49.55415085,  52.94353177,\n",
       "        55.94175279,  58.87375534,  61.6555608 ,  64.23261589,\n",
       "        66.50791921,  68.73509895,  70.90032838,  72.81449499,\n",
       "        74.59004207,  76.22811135,  77.82457152,  79.3137627 ,\n",
       "        80.66173227,  81.93366364,  83.09950099,  84.15714759,\n",
       "        85.13246353,  86.07702252,  86.94003635,  87.77667921,\n",
       "        88.57437245,  89.32084382,  90.04642598,  90.73833722,\n",
       "        91.39224576,  92.03303833,  92.62442244,  93.19558485,\n",
       "        93.71922165,  94.20102924,  94.6547485 ,  95.07791125,\n",
       "        95.48396432,  95.88104913,  96.23754243,  96.57832961,\n",
       "        96.90616495,  97.21719696,  97.50577225,  97.78226151,\n",
       "        98.04143645,  98.27591946,  98.49417632,  98.69777395,\n",
       "        98.89328638,  99.07660488,  99.24455127,  99.40578733,\n",
       "        99.55355002,  99.68866843,  99.81376918,  99.91746491,\n",
       "       100.        , 100.        , 100.        , 100.        ])"
      ]
     },
     "execution_count": 7,
     "metadata": {},
     "output_type": "execute_result"
    }
   ],
   "source": [
    "cum_var_exp = np.cumsum(var_exp)\n",
    "cum_var_exp"
   ]
  },
  {
   "cell_type": "code",
   "execution_count": 8,
   "id": "613bbedc",
   "metadata": {},
   "outputs": [
    {
     "data": {
      "text/plain": [
       "100.00000000000003"
      ]
     },
     "execution_count": 8,
     "metadata": {},
     "output_type": "execute_result"
    }
   ],
   "source": [
    "cum_var_exp.max()"
   ]
  },
  {
   "cell_type": "code",
   "execution_count": 9,
   "id": "74e8ac7b",
   "metadata": {},
   "outputs": [],
   "source": [
    "from sklearn.decomposition import PCA\n",
    " \n",
    "import matplotlib.pyplot as plt  "
   ]
  },
  {
   "cell_type": "markdown",
   "id": "7184c28e",
   "metadata": {},
   "source": [
    "6. Why is cumulative explained variance required before applying PCA?\n",
    "A. To check the maximum components to be selected\n",
    "B. To check the distribution of the data\n",
    "C. To check the minimum components to be selected\n",
    "D. All of the above\n",
    "\n",
    "Ans : A. To check the maximum components to be selected"
   ]
  },
  {
   "cell_type": "markdown",
   "id": "34c1a55c",
   "metadata": {},
   "source": [
    "7. from the below plot, select the range of components can be selected?\n",
    "A. 0-10\n",
    "B. 10-20\n",
    "C. 40-60\n",
    "D. 30-40\n",
    "\n",
    "Ans : D. 30-40\n"
   ]
  },
  {
   "cell_type": "markdown",
   "id": "bb1ce539",
   "metadata": {},
   "source": [
    "8. Fit the data to PCA and compute the maximum explained_variance_ratio?\n",
    "A. 0.120\n",
    "B. 0.9\n",
    "C. 0.012\n",
    "D. 0.011\n",
    "\n",
    "Ans : A. 0.120\n",
    "\n"
   ]
  },
  {
   "cell_type": "code",
   "execution_count": 10,
   "id": "1ebadf1b",
   "metadata": {},
   "outputs": [
    {
     "data": {
      "image/png": "[encoded data removed]",
      "text/plain": [
       "<Figure size 720x360 with 1 Axes>"
      ]
     },
     "metadata": {
      "needs_background": "light"
     },
     "output_type": "display_data"
    }
   ],
   "source": [
    "plt.figure(figsize=(10, 5))\n",
    "plt.bar(range(len(var_exp)), var_exp, label='individual explained variance', color = 'g')\n",
    "plt.step(range(len(cum_var_exp)), cum_var_exp,label='cumulative explained variance')\n",
    "plt.ylabel('Explained variance ratio')\n",
    "plt.xlabel('Principal components')\n",
    "plt.legend()\n",
    "plt.show()"
   ]
  },
  {
   "cell_type": "code",
   "execution_count": 11,
   "id": "9d97176b",
   "metadata": {},
   "outputs": [
    {
     "name": "stdout",
     "output_type": "stream",
     "text": [
      "7.344776062835704\n",
      "0.12033916097733831\n",
      "0.8931294433875239\n"
     ]
    }
   ],
   "source": [
    "from sklearn.model_selection import train_test_split\n",
    "from sklearn.decomposition import PCA\n",
    "pca = PCA(n_components=30) # inplace of 40, can also take 0.95\n",
    "pca_x_scaled = pca.fit_transform(x_scaled)\n",
    "print(pca.explained_variance_.max())\n",
    "print(pca.explained_variance_ratio_.max())\n",
    "print(pca.explained_variance_ratio_.cumsum().max())\n"
   ]
  },
  {
   "cell_type": "code",
   "execution_count": 12,
   "id": "9037c462",
   "metadata": {},
   "outputs": [
    {
     "name": "stdout",
     "output_type": "stream",
     "text": [
      "[88724.99972373077, 82139.2740628925, 77523.11299002626, 73831.03699556204, 69730.71052680686, 66034.1108529331, 63503.734535046206, 60340.60652624322, 58090.706736628985]\n"
     ]
    },
    {
     "data": {
      "image/png": "[encoded data removed]",
      "text/plain": [
       "<Figure size 432x288 with 1 Axes>"
      ]
     },
     "metadata": {
      "needs_background": "light"
     },
     "output_type": "display_data"
    }
   ],
   "source": [
    "#finding optimal number of clusters using the elbow method  \n",
    "from sklearn.cluster import KMeans \n",
    "ssd = []\n",
    "range_cluster = [2, 3, 4, 5, 6, 7 , 8,9,10]\n",
    "for n in range_cluster:\n",
    "    kmeans = KMeans(n_clusters=n, max_iter=1000, random_state=47)\n",
    "    kmeans.fit(pca_x_scaled)\n",
    "    ssd.append(kmeans.inertia_)\n",
    "print(ssd)  \n",
    "plt.plot(ssd)\n",
    "plt.grid()\n"
   ]
  },
  {
   "cell_type": "markdown",
   "id": "d7d12488",
   "metadata": {},
   "source": [
    "9. fit the KMeans model on top of PCA fitted data and find the optimal number of clusters(k-value)?\n",
    "A. 5-6\n",
    "B. 6\n",
    "C. 7-8\n",
    "D. 4\n",
    "\n",
    "Ans : C. 7-8"
   ]
  },
  {
   "cell_type": "code",
   "execution_count": null,
   "id": "c64e0984",
   "metadata": {},
   "outputs": [],
   "source": [
    "\n"
   ]
  },
  {
   "cell_type": "markdown",
   "id": "2ec2ac5a",
   "metadata": {},
   "source": [
    "10. Calculate the optimal number of clusters for the data without applying PCA?\n",
    "A. 5\n",
    "B. 6\n",
    "C. 7\n",
    "D. 8\n",
    "\n",
    "Ans : B. 6"
   ]
  },
  {
   "cell_type": "code",
   "execution_count": 13,
   "id": "740f0998",
   "metadata": {},
   "outputs": [
    {
     "data": {
      "text/plain": [
       "<matplotlib.legend.Legend at 0x27a414059a0>"
      ]
     },
     "execution_count": 13,
     "metadata": {},
     "output_type": "execute_result"
    },
    {
     "data": {
      "image/png": "[encoded data removed]",
      "text/plain": [
       "<Figure size 360x360 with 1 Axes>"
      ]
     },
     "metadata": {
      "needs_background": "light"
     },
     "output_type": "display_data"
    }
   ],
   "source": [
    "#finding optimal number of clusters using the elbow method  \n",
    "ssd1 = []\n",
    "range_cluster = [2, 3, 4, 5, 6, 7 , 8,9,10]\n",
    "for n in range_cluster:\n",
    "    kmeans = KMeans(n_clusters=n, max_iter=1000, random_state=47)\n",
    "    kmeans.fit(x_scaled)\n",
    "    ssd1.append(kmeans.inertia_)\n",
    "ssd1  \n",
    "plt.figure(figsize=(5, 5))\n",
    "plt.grid(True, linewidth=0.1, color='#ff0000', linestyle='-')\n",
    "plt.plot(ssd1,label = \"withoutpca\")\n",
    "plt.plot(ssd, label = \"withpca\")\n",
    "plt.legend()"
   ]
  },
  {
   "cell_type": "code",
   "execution_count": 24,
   "id": "224990aa",
   "metadata": {},
   "outputs": [
    {
     "data": {
      "text/plain": [
       "0.8333333333333334"
      ]
     },
     "execution_count": 24,
     "metadata": {},
     "output_type": "execute_result"
    }
   ],
   "source": [
    "#With the above PCA data your decision tree model with train test ratio as 80:20, and\n",
    "#random_state=40 .\n",
    "from sklearn.tree import DecisionTreeClassifier\n",
    "from sklearn.metrics import accuracy_score\n",
    "x_train,x_test,y_train,y_test=train_test_split(pca_x_scaled,y,train_size=0.8,random_state=40)\n",
    "dt=DecisionTreeClassifier()\n",
    "dt.fit(x_train,y_train)\n",
    "y_predict=dt.predict(x_test)\n",
    "accuracy_score(y_predict,y_test) \n"
   ]
  },
  {
   "cell_type": "code",
   "execution_count": 25,
   "id": "e9483cb2",
   "metadata": {},
   "outputs": [
    {
     "data": {
      "text/plain": [
       "60"
      ]
     },
     "execution_count": 25,
     "metadata": {},
     "output_type": "execute_result"
    }
   ],
   "source": [
    "def get_misclassified_index(y_pred,y_test):\n",
    "    misclassification=[]#help us out to get the misclassified index value\n",
    "    for index,(predicted,actual) in enumerate(zip(y_pred,y_test)):\n",
    "        if predicted!=actual:\n",
    "            misclassification.append(index)\n",
    "            \n",
    "    return misclassification\n",
    "misclassification = get_misclassified_index(y_predict,y_test)\n",
    "len(misclassification)"
   ]
  },
  {
   "cell_type": "markdown",
   "id": "08c24f06",
   "metadata": {},
   "source": [
    "11. With the help of the above model how many images have been misclassified by the model.\n",
    "A. 40-50\n",
    "B. 60-70\n",
    "C. 50-60\n",
    "D. 70-80\n",
    "\n",
    "Ans : B. 60-70"
   ]
  },
  {
   "cell_type": "code",
   "execution_count": 26,
   "id": "f1dd3d87",
   "metadata": {},
   "outputs": [
    {
     "data": {
      "text/plain": [
       "37"
      ]
     },
     "execution_count": 26,
     "metadata": {},
     "output_type": "execute_result"
    }
   ],
   "source": [
    " \n",
    "len(y_predict[y_predict==8])\n"
   ]
  },
  {
   "cell_type": "markdown",
   "id": "9f3a77e4",
   "metadata": {},
   "source": [
    "12.With the above model how many images are classified as 8.\n",
    "A. 38\n",
    "B. 36\n",
    "C. 35\n",
    "D. 32\n",
    "\n",
    "Ans : B. 36"
   ]
  },
  {
   "cell_type": "code",
   "execution_count": 27,
   "id": "ae8eb134",
   "metadata": {},
   "outputs": [
    {
     "data": {
      "text/plain": [
       "0.8305555555555556"
      ]
     },
     "execution_count": 27,
     "metadata": {},
     "output_type": "execute_result"
    }
   ],
   "source": [
    "#With the above PCA data your decision tree model with train test ratio as 80:20, and\n",
    "#random_state=40 .\n",
    "from sklearn.tree import DecisionTreeClassifier\n",
    "x_train,x_test,y_train,y_test=train_test_split(x_scaled,y,train_size=0.8,random_state=40)\n",
    "dt=DecisionTreeClassifier()\n",
    "dt.fit(x_train,y_train)\n",
    "y_predict=dt.predict(x_test)\n",
    "accuracy_score(y_predict,y_test) \n",
    "\n"
   ]
  },
  {
   "cell_type": "code",
   "execution_count": 28,
   "id": "971840ee",
   "metadata": {},
   "outputs": [
    {
     "data": {
      "text/plain": [
       "61"
      ]
     },
     "execution_count": 28,
     "metadata": {},
     "output_type": "execute_result"
    }
   ],
   "source": [
    "def get_misclassified_index(y_pred,y_test):\n",
    "    misclassification=[]#help us out to get the misclassified index value\n",
    "    for index,(predicted,actual) in enumerate(zip(y_pred,y_test)):\n",
    "        if predicted!=actual:\n",
    "            misclassification.append(index)\n",
    "            \n",
    "    return misclassification\n",
    "misclassification = get_misclassified_index(y_predict,y_test)\n",
    "len(misclassification)"
   ]
  },
  {
   "cell_type": "markdown",
   "id": "37a8d405",
   "metadata": {},
   "source": [
    "13. Without applying PCA, how much misclassified data are there?\n",
    "A. 45\n",
    "B. 63\n",
    "C. 23\n",
    "D. 22\n",
    "\n",
    "Ans : B. 63"
   ]
  },
  {
   "cell_type": "markdown",
   "id": "f633c34e",
   "metadata": {},
   "source": [
    "14. Which of the following non-zero vector stays parallel after matrix multiplication\n",
    "A. EigenValue\n",
    "B. EigenVector\n",
    "C. Covariance vector\n",
    "D. Explained variance ratio\n",
    "\n",
    "Ans : C. Covariance vector"
   ]
  },
  {
   "cell_type": "markdown",
   "id": "ca1058c8",
   "metadata": {},
   "source": [
    "5. The Output of PCA is always a new representation of data with a lower dimension than the\n",
    "original data representation.\n",
    "A. True\n",
    "B. False\n",
    "\n",
    "Ans : A. True"
   ]
  },
  {
   "cell_type": "code",
   "execution_count": null,
   "id": "70ff72ff",
   "metadata": {},
   "outputs": [],
   "source": []
  }
 ],
 "metadata": {
  "kernelspec": {
   "display_name": "Python 3 (ipykernel)",
   "language": "python",
   "name": "python3"
  },
  "language_info": {
   "codemirror_mode": {
    "name": "ipython",
    "version": 3
   },
   "file_extension": ".py",
   "mimetype": "text/x-python",
   "name": "python",
   "nbconvert_exporter": "python",
   "pygments_lexer": "ipython3",
   "version": "3.9.12"
  }
 },
 "nbformat": 4,
 "nbformat_minor": 5
}
