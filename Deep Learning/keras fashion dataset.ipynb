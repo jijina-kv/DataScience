{
 "cells": [
  {
   "cell_type": "code",
   "execution_count": 1,
   "id": "0a21aeea",
   "metadata": {
    "collapsed": true
   },
   "outputs": [
    {
     "name": "stdout",
     "output_type": "stream",
     "text": [
      "Requirement already satisfied: tensorflow in c:\\users\\jijin\\anaconda3\\lib\\site-packages (2.11.0)\n",
      "Requirement already satisfied: tensorflow-intel==2.11.0 in c:\\users\\jijin\\anaconda3\\lib\\site-packages (from tensorflow) (2.11.0)\n",
      "Requirement already satisfied: wrapt>=1.11.0 in c:\\users\\jijin\\anaconda3\\lib\\site-packages (from tensorflow-intel==2.11.0->tensorflow) (1.12.1)\n",
      "Requirement already satisfied: termcolor>=1.1.0 in c:\\users\\jijin\\anaconda3\\lib\\site-packages (from tensorflow-intel==2.11.0->tensorflow) (2.1.1)\n",
      "Requirement already satisfied: setuptools in c:\\users\\jijin\\anaconda3\\lib\\site-packages (from tensorflow-intel==2.11.0->tensorflow) (61.2.0)\n",
      "Requirement already satisfied: h5py>=2.9.0 in c:\\users\\jijin\\anaconda3\\lib\\site-packages (from tensorflow-intel==2.11.0->tensorflow) (3.6.0)\n",
      "Requirement already satisfied: typing-extensions>=3.6.6 in c:\\users\\jijin\\anaconda3\\lib\\site-packages (from tensorflow-intel==2.11.0->tensorflow) (4.1.1)\n",
      "Requirement already satisfied: numpy>=1.20 in c:\\users\\jijin\\anaconda3\\lib\\site-packages (from tensorflow-intel==2.11.0->tensorflow) (1.21.5)\n",
      "Requirement already satisfied: packaging in c:\\users\\jijin\\anaconda3\\lib\\site-packages (from tensorflow-intel==2.11.0->tensorflow) (21.3)\n",
      "Requirement already satisfied: protobuf<3.20,>=3.9.2 in c:\\users\\jijin\\anaconda3\\lib\\site-packages (from tensorflow-intel==2.11.0->tensorflow) (3.19.1)\n",
      "Requirement already satisfied: tensorboard<2.12,>=2.11 in c:\\users\\jijin\\anaconda3\\lib\\site-packages (from tensorflow-intel==2.11.0->tensorflow) (2.11.0)\n",
      "Requirement already satisfied: six>=1.12.0 in c:\\users\\jijin\\anaconda3\\lib\\site-packages (from tensorflow-intel==2.11.0->tensorflow) (1.16.0)\n",
      "Requirement already satisfied: flatbuffers>=2.0 in c:\\users\\jijin\\anaconda3\\lib\\site-packages (from tensorflow-intel==2.11.0->tensorflow) (22.12.6)\n",
      "Requirement already satisfied: gast<=0.4.0,>=0.2.1 in c:\\users\\jijin\\anaconda3\\lib\\site-packages (from tensorflow-intel==2.11.0->tensorflow) (0.4.0)\n",
      "Requirement already satisfied: libclang>=13.0.0 in c:\\users\\jijin\\anaconda3\\lib\\site-packages (from tensorflow-intel==2.11.0->tensorflow) (14.0.6)\n",
      "Requirement already satisfied: opt-einsum>=2.3.2 in c:\\users\\jijin\\anaconda3\\lib\\site-packages (from tensorflow-intel==2.11.0->tensorflow) (3.3.0)\n",
      "Requirement already satisfied: tensorflow-estimator<2.12,>=2.11.0 in c:\\users\\jijin\\anaconda3\\lib\\site-packages (from tensorflow-intel==2.11.0->tensorflow) (2.11.0)\n",
      "Requirement already satisfied: keras<2.12,>=2.11.0 in c:\\users\\jijin\\anaconda3\\lib\\site-packages (from tensorflow-intel==2.11.0->tensorflow) (2.11.0)\n",
      "Requirement already satisfied: google-pasta>=0.1.1 in c:\\users\\jijin\\anaconda3\\lib\\site-packages (from tensorflow-intel==2.11.0->tensorflow) (0.2.0)\n",
      "Requirement already satisfied: absl-py>=1.0.0 in c:\\users\\jijin\\anaconda3\\lib\\site-packages (from tensorflow-intel==2.11.0->tensorflow) (1.3.0)\n",
      "Requirement already satisfied: grpcio<2.0,>=1.24.3 in c:\\users\\jijin\\anaconda3\\lib\\site-packages (from tensorflow-intel==2.11.0->tensorflow) (1.42.0)\n",
      "Requirement already satisfied: astunparse>=1.6.0 in c:\\users\\jijin\\anaconda3\\lib\\site-packages (from tensorflow-intel==2.11.0->tensorflow) (1.6.3)\n",
      "Requirement already satisfied: tensorflow-io-gcs-filesystem>=0.23.1 in c:\\users\\jijin\\anaconda3\\lib\\site-packages (from tensorflow-intel==2.11.0->tensorflow) (0.29.0)\n",
      "Requirement already satisfied: wheel<1.0,>=0.23.0 in c:\\users\\jijin\\anaconda3\\lib\\site-packages (from astunparse>=1.6.0->tensorflow-intel==2.11.0->tensorflow) (0.37.1)\n",
      "Requirement already satisfied: requests<3,>=2.21.0 in c:\\users\\jijin\\anaconda3\\lib\\site-packages (from tensorboard<2.12,>=2.11->tensorflow-intel==2.11.0->tensorflow) (2.27.1)\n",
      "Requirement already satisfied: werkzeug>=1.0.1 in c:\\users\\jijin\\anaconda3\\lib\\site-packages (from tensorboard<2.12,>=2.11->tensorflow-intel==2.11.0->tensorflow) (2.0.3)\n",
      "Requirement already satisfied: google-auth<3,>=1.6.3 in c:\\users\\jijin\\anaconda3\\lib\\site-packages (from tensorboard<2.12,>=2.11->tensorflow-intel==2.11.0->tensorflow) (1.33.0)\n",
      "Requirement already satisfied: tensorboard-data-server<0.7.0,>=0.6.0 in c:\\users\\jijin\\anaconda3\\lib\\site-packages (from tensorboard<2.12,>=2.11->tensorflow-intel==2.11.0->tensorflow) (0.6.1)\n",
      "Requirement already satisfied: tensorboard-plugin-wit>=1.6.0 in c:\\users\\jijin\\anaconda3\\lib\\site-packages (from tensorboard<2.12,>=2.11->tensorflow-intel==2.11.0->tensorflow) (1.8.1)\n",
      "Requirement already satisfied: google-auth-oauthlib<0.5,>=0.4.1 in c:\\users\\jijin\\anaconda3\\lib\\site-packages (from tensorboard<2.12,>=2.11->tensorflow-intel==2.11.0->tensorflow) (0.4.6)\n",
      "Requirement already satisfied: markdown>=2.6.8 in c:\\users\\jijin\\anaconda3\\lib\\site-packages (from tensorboard<2.12,>=2.11->tensorflow-intel==2.11.0->tensorflow) (3.3.4)\n",
      "Requirement already satisfied: rsa<5,>=3.1.4 in c:\\users\\jijin\\anaconda3\\lib\\site-packages (from google-auth<3,>=1.6.3->tensorboard<2.12,>=2.11->tensorflow-intel==2.11.0->tensorflow) (4.7.2)\n",
      "Requirement already satisfied: cachetools<5.0,>=2.0.0 in c:\\users\\jijin\\anaconda3\\lib\\site-packages (from google-auth<3,>=1.6.3->tensorboard<2.12,>=2.11->tensorflow-intel==2.11.0->tensorflow) (4.2.2)\n",
      "Requirement already satisfied: pyasn1-modules>=0.2.1 in c:\\users\\jijin\\anaconda3\\lib\\site-packages (from google-auth<3,>=1.6.3->tensorboard<2.12,>=2.11->tensorflow-intel==2.11.0->tensorflow) (0.2.8)\n",
      "Requirement already satisfied: requests-oauthlib>=0.7.0 in c:\\users\\jijin\\anaconda3\\lib\\site-packages (from google-auth-oauthlib<0.5,>=0.4.1->tensorboard<2.12,>=2.11->tensorflow-intel==2.11.0->tensorflow) (1.3.1)\n",
      "Requirement already satisfied: pyasn1<0.5.0,>=0.4.6 in c:\\users\\jijin\\anaconda3\\lib\\site-packages (from pyasn1-modules>=0.2.1->google-auth<3,>=1.6.3->tensorboard<2.12,>=2.11->tensorflow-intel==2.11.0->tensorflow) (0.4.8)\n",
      "Requirement already satisfied: urllib3<1.27,>=1.21.1 in c:\\users\\jijin\\anaconda3\\lib\\site-packages (from requests<3,>=2.21.0->tensorboard<2.12,>=2.11->tensorflow-intel==2.11.0->tensorflow) (1.26.9)\n",
      "Requirement already satisfied: certifi>=2017.4.17 in c:\\users\\jijin\\anaconda3\\lib\\site-packages (from requests<3,>=2.21.0->tensorboard<2.12,>=2.11->tensorflow-intel==2.11.0->tensorflow) (2021.10.8)\n",
      "Requirement already satisfied: idna<4,>=2.5 in c:\\users\\jijin\\anaconda3\\lib\\site-packages (from requests<3,>=2.21.0->tensorboard<2.12,>=2.11->tensorflow-intel==2.11.0->tensorflow) (3.3)\n",
      "Requirement already satisfied: charset-normalizer~=2.0.0 in c:\\users\\jijin\\anaconda3\\lib\\site-packages (from requests<3,>=2.21.0->tensorboard<2.12,>=2.11->tensorflow-intel==2.11.0->tensorflow) (2.0.4)\n",
      "Requirement already satisfied: oauthlib>=3.0.0 in c:\\users\\jijin\\anaconda3\\lib\\site-packages (from requests-oauthlib>=0.7.0->google-auth-oauthlib<0.5,>=0.4.1->tensorboard<2.12,>=2.11->tensorflow-intel==2.11.0->tensorflow) (3.2.2)\n",
      "Requirement already satisfied: pyparsing!=3.0.5,>=2.0.2 in c:\\users\\jijin\\anaconda3\\lib\\site-packages (from packaging->tensorflow-intel==2.11.0->tensorflow) (3.0.4)\n",
      "Note: you may need to restart the kernel to use updated packages.\n"
     ]
    }
   ],
   "source": [
    "pip install tensorflow"
   ]
  },
  {
   "cell_type": "code",
   "execution_count": 2,
   "id": "928ccce0",
   "metadata": {},
   "outputs": [],
   "source": [
    "import numpy as np\n",
    "import pandas as pd\n",
    "import matplotlib.pyplot as plt\n",
    "import tensorflow as tf"
   ]
  },
  {
   "cell_type": "code",
   "execution_count": 3,
   "id": "f3fc2da2",
   "metadata": {},
   "outputs": [],
   "source": [
    "(x_train,y_train),(x_test,y_test)=tf.keras.datasets.fashion_mnist.load_data()"
   ]
  },
  {
   "cell_type": "code",
   "execution_count": 4,
   "id": "f3d836f8",
   "metadata": {},
   "outputs": [],
   "source": [
    "#0\tT-shirt/top\n",
    "#1\tTrouser\n",
    "#2\tPullover\n",
    "#3\tDress\n",
    "#4\tCoat\n",
    "#5\tSandal\n",
    "#6\tShirt\n",
    "#7\tSneaker\n",
    "#8\tBag\n",
    "#9\tAnkle boot"
   ]
  },
  {
   "cell_type": "code",
   "execution_count": 5,
   "id": "dd761af1",
   "metadata": {},
   "outputs": [],
   "source": [
    "x_train_encoded=x_train/x_train.max()"
   ]
  },
  {
   "cell_type": "code",
   "execution_count": 27,
   "id": "0e67c0df",
   "metadata": {},
   "outputs": [
    {
     "data": {
      "text/plain": [
       "255"
      ]
     },
     "execution_count": 27,
     "metadata": {},
     "output_type": "execute_result"
    }
   ],
   "source": [
    "x_train.max()"
   ]
  },
  {
   "cell_type": "code",
   "execution_count": 6,
   "id": "067e2108",
   "metadata": {},
   "outputs": [],
   "source": [
    "y_encoded=tf.keras.utils.to_categorical(y_train)"
   ]
  },
  {
   "cell_type": "code",
   "execution_count": 7,
   "id": "385ba092",
   "metadata": {
    "collapsed": true
   },
   "outputs": [
    {
     "name": "stdout",
     "output_type": "stream",
     "text": [
      "2\n",
      "[[0.         0.         0.         0.         0.         0.\n",
      "  0.         0.         0.         0.06666667 0.15294118 0.52941176\n",
      "  0.43137255 0.25882353 0.25882353 0.36078431 0.62352941 0.36078431\n",
      "  0.00392157 0.         0.         0.         0.         0.\n",
      "  0.         0.         0.         0.        ]\n",
      " [0.         0.         0.         0.         0.         0.\n",
      "  0.06666667 0.2627451  0.36078431 0.36470588 0.29803922 0.34509804\n",
      "  0.66666667 0.75294118 0.70588235 0.76078431 0.56078431 0.25490196\n",
      "  0.3254902  0.35686275 0.23529412 0.04313725 0.         0.\n",
      "  0.         0.         0.         0.        ]\n",
      " [0.         0.         0.         0.         0.         0.07843137\n",
      "  0.39607843 0.3254902  0.27058824 0.22745098 0.25490196 0.19607843\n",
      "  0.10980392 0.12941176 0.14901961 0.09411765 0.08627451 0.18039216\n",
      "  0.20392157 0.22745098 0.30588235 0.36470588 0.04705882 0.\n",
      "  0.         0.         0.         0.        ]\n",
      " [0.         0.         0.         0.         0.         0.32156863\n",
      "  0.31764706 0.21568627 0.25882353 0.25098039 0.24313725 0.25882353\n",
      "  0.25098039 0.22352941 0.20784314 0.21568627 0.23921569 0.21568627\n",
      "  0.21568627 0.21176471 0.19215686 0.23529412 0.23529412 0.\n",
      "  0.         0.         0.         0.        ]\n",
      " [0.         0.         0.         0.         0.03921569 0.39607843\n",
      "  0.29411765 0.2627451  0.23921569 0.24705882 0.2627451  0.25098039\n",
      "  0.24705882 0.21568627 0.19215686 0.14117647 0.15686275 0.20392157\n",
      "  0.21176471 0.20784314 0.20784314 0.21568627 0.30196078 0.02352941\n",
      "  0.         0.         0.         0.        ]\n",
      " [0.         0.         0.         0.         0.1254902  0.4627451\n",
      "  0.35294118 0.25098039 0.25490196 0.25490196 0.25098039 0.23529412\n",
      "  0.19607843 0.10588235 0.21960784 0.39607843 0.12156863 0.14117647\n",
      "  0.19215686 0.21176471 0.18823529 0.26666667 0.3254902  0.09019608\n",
      "  0.         0.         0.         0.        ]\n",
      " [0.         0.         0.         0.         0.20392157 0.34509804\n",
      "  0.4627451  0.25882353 0.28235294 0.25490196 0.21176471 0.14509804\n",
      "  0.18039216 0.14117647 0.53333333 0.99607843 0.76862745 0.20784314\n",
      "  0.14117647 0.20392157 0.20784314 0.43137255 0.25098039 0.17254902\n",
      "  0.         0.         0.         0.        ]\n",
      " [0.         0.         0.         0.         0.28235294 0.28627451\n",
      "  0.43137255 0.3254902  0.28235294 0.25882353 0.17647059 0.45490196\n",
      "  0.95294118 0.83529412 0.88235294 0.48627451 0.79215686 0.70588235\n",
      "  0.12156863 0.16862745 0.28627451 0.38431373 0.21960784 0.21176471\n",
      "  0.         0.         0.         0.        ]\n",
      " [0.         0.         0.         0.         0.33333333 0.30588235\n",
      "  0.38039216 0.26666667 0.2745098  0.23137255 0.47058824 0.99215686\n",
      "  0.70196078 1.         0.30588235 0.60784314 0.18823529 0.98039216\n",
      "  0.23921569 0.14901961 0.23529412 0.23921569 0.26666667 0.21960784\n",
      "  0.         0.         0.         0.        ]\n",
      " [0.         0.         0.         0.         0.33333333 0.2627451\n",
      "  0.5372549  0.35686275 0.22352941 0.23137255 0.85098039 0.65098039\n",
      "  0.50980392 0.45490196 0.08235294 0.30196078 0.6        0.88235294\n",
      "  0.2627451  0.14901961 0.23137255 0.29803922 0.23921569 0.24705882\n",
      "  0.         0.         0.         0.        ]\n",
      " [0.         0.         0.         0.         0.32156863 0.21960784\n",
      "  0.48235294 0.45098039 0.18431373 0.28627451 1.         0.34509804\n",
      "  0.45882353 0.27058824 0.58431373 0.30588235 0.70980392 0.89019608\n",
      "  0.2        0.15294118 0.23137255 0.3254902  0.24705882 0.26666667\n",
      "  0.         0.         0.         0.        ]\n",
      " [0.         0.         0.         0.         0.3254902  0.24705882\n",
      "  0.41568627 0.4        0.19215686 0.26666667 1.         0.87843137\n",
      "  0.         0.83137255 0.8745098  0.57254902 0.68627451 0.77647059\n",
      "  0.13333333 0.14509804 0.2627451  0.3372549  0.23137255 0.31372549\n",
      "  0.         0.         0.         0.        ]\n",
      " [0.         0.         0.         0.         0.3372549  0.27843137\n",
      "  0.36470588 0.38431373 0.22352941 0.18823529 0.96078431 0.70196078\n",
      "  0.6        0.94117647 0.76470588 0.92941176 0.87058824 0.28627451\n",
      "  0.16862745 0.16078431 0.3254902  0.38431373 0.30980392 0.31372549\n",
      "  0.         0.         0.         0.        ]\n",
      " [0.         0.         0.         0.         0.30980392 0.33333333\n",
      "  0.36078431 0.34509804 0.25882353 0.18823529 0.49411765 0.83921569\n",
      "  0.94901961 0.92156863 0.4745098  0.58823529 0.24313725 0.15294118\n",
      "  0.23529412 0.14509804 0.40784314 0.44313725 0.40392157 0.24705882\n",
      "  0.03921569 0.         0.         0.        ]\n",
      " [0.         0.         0.         0.01568627 0.30196078 0.34901961\n",
      "  0.41960784 0.31764706 0.25882353 0.25882353 0.18823529 0.47843137\n",
      "  0.78431373 1.         0.2627451  0.10588235 0.18823529 0.22745098\n",
      "  0.24313725 0.16862745 0.2745098  0.43921569 0.41176471 0.21960784\n",
      "  0.06666667 0.         0.         0.        ]\n",
      " [0.         0.         0.         0.08235294 0.30196078 0.28235294\n",
      "  0.49803922 0.3372549  0.25490196 0.28235294 0.22352941 0.15686275\n",
      "  0.25490196 0.39215686 0.2627451  0.20392157 0.26666667 0.24705882\n",
      "  0.25882353 0.15686275 0.34901961 0.49019608 0.3372549  0.22352941\n",
      "  0.08627451 0.         0.         0.        ]\n",
      " [0.         0.         0.         0.10980392 0.30196078 0.24313725\n",
      "  0.48235294 0.43921569 0.22352941 0.26666667 0.2745098  0.23921569\n",
      "  0.18823529 0.19215686 0.23921569 0.23921569 0.26666667 0.26666667\n",
      "  0.25098039 0.13333333 0.46666667 0.54117647 0.25882353 0.24313725\n",
      "  0.09411765 0.         0.         0.        ]\n",
      " [0.         0.         0.         0.10588235 0.29803922 0.21960784\n",
      "  0.46666667 0.46666667 0.20392157 0.25882353 0.2627451  0.25882353\n",
      "  0.26666667 0.26666667 0.25882353 0.25098039 0.27058824 0.2627451\n",
      "  0.25882353 0.13333333 0.47058824 0.50980392 0.21960784 0.26666667\n",
      "  0.09411765 0.         0.         0.        ]\n",
      " [0.         0.         0.         0.11764706 0.27843137 0.21568627\n",
      "  0.46666667 0.41176471 0.19215686 0.27058824 0.25882353 0.25490196\n",
      "  0.25098039 0.25490196 0.26666667 0.24705882 0.25098039 0.2627451\n",
      "  0.25490196 0.15294118 0.39607843 0.47058824 0.20784314 0.27058824\n",
      "  0.10588235 0.         0.         0.        ]\n",
      " [0.         0.         0.         0.13333333 0.26666667 0.20784314\n",
      "  0.4745098  0.34901961 0.2        0.2627451  0.25882353 0.25490196\n",
      "  0.25098039 0.26666667 0.26666667 0.24705882 0.24705882 0.26666667\n",
      "  0.25098039 0.18431373 0.34901961 0.45882353 0.20784314 0.2627451\n",
      "  0.1254902  0.         0.         0.        ]\n",
      " [0.         0.         0.         0.1254902  0.25882353 0.21960784\n",
      "  0.43529412 0.24313725 0.21960784 0.25490196 0.25098039 0.25490196\n",
      "  0.25098039 0.2745098  0.26666667 0.25098039 0.25490196 0.25490196\n",
      "  0.25490196 0.22352941 0.24705882 0.42745098 0.22745098 0.25882353\n",
      "  0.1372549  0.         0.         0.        ]\n",
      " [0.         0.         0.         0.12941176 0.25098039 0.25490196\n",
      "  0.36862745 0.14901961 0.2627451  0.25882353 0.25098039 0.25490196\n",
      "  0.24705882 0.27058824 0.26666667 0.25098039 0.25098039 0.25098039\n",
      "  0.25882353 0.25882353 0.14901961 0.36078431 0.24705882 0.24705882\n",
      "  0.14509804 0.         0.         0.        ]\n",
      " [0.         0.         0.         0.15686275 0.24313725 0.26666667\n",
      "  0.30588235 0.1254902  0.28235294 0.25098039 0.25098039 0.25490196\n",
      "  0.25098039 0.27058824 0.26666667 0.24705882 0.25882353 0.25490196\n",
      "  0.25490196 0.28627451 0.12941176 0.31372549 0.25490196 0.23529412\n",
      "  0.14901961 0.         0.         0.        ]\n",
      " [0.         0.         0.         0.18431373 0.22745098 0.27843137\n",
      "  0.25882353 0.09411765 0.27843137 0.23921569 0.24705882 0.24313725\n",
      "  0.23921569 0.27058824 0.2745098  0.24313725 0.24705882 0.2627451\n",
      "  0.23921569 0.27058824 0.08627451 0.28235294 0.25882353 0.23529412\n",
      "  0.16862745 0.         0.         0.        ]\n",
      " [0.         0.         0.         0.17647059 0.21568627 0.31372549\n",
      "  0.17254902 0.1372549  0.34117647 0.24705882 0.27058824 0.25882353\n",
      "  0.24313725 0.25098039 0.27058824 0.25490196 0.23921569 0.27058824\n",
      "  0.25490196 0.30196078 0.08235294 0.2627451  0.2745098  0.23137255\n",
      "  0.17647059 0.         0.         0.        ]\n",
      " [0.         0.         0.         0.17254902 0.21960784 0.34117647\n",
      "  0.19215686 0.05882353 0.39607843 0.33333333 0.35294118 0.35294118\n",
      "  0.35294118 0.35294118 0.36078431 0.34509804 0.3372549  0.34509804\n",
      "  0.3254902  0.39607843 0.09803922 0.27843137 0.31372549 0.21960784\n",
      "  0.16078431 0.         0.         0.        ]\n",
      " [0.         0.         0.         0.15686275 0.22745098 0.34117647\n",
      "  0.26666667 0.         0.07058824 0.05490196 0.07058824 0.0745098\n",
      "  0.08235294 0.08235294 0.07843137 0.0627451  0.0745098  0.0745098\n",
      "  0.0627451  0.0745098  0.         0.27058824 0.31764706 0.24705882\n",
      "  0.15294118 0.         0.         0.        ]\n",
      " [0.         0.         0.         0.08627451 0.19607843 0.23529412\n",
      "  0.19215686 0.         0.         0.         0.         0.\n",
      "  0.         0.         0.         0.         0.         0.\n",
      "  0.         0.         0.         0.19215686 0.27058824 0.18431373\n",
      "  0.09411765 0.         0.         0.        ]]\n"
     ]
    },
    {
     "data": {
      "image/png": "[encoded data removed]",
      "text/plain": [
       "<Figure size 432x288 with 1 Axes>"
      ]
     },
     "metadata": {
      "needs_background": "light"
     },
     "output_type": "display_data"
    }
   ],
   "source": [
    "plt.imshow(x_train_encoded[123])\n",
    "print(y_train[123])\n",
    "print(x_train_encoded[123])"
   ]
  },
  {
   "cell_type": "code",
   "execution_count": 31,
   "id": "76a71723",
   "metadata": {},
   "outputs": [
    {
     "name": "stdout",
     "output_type": "stream",
     "text": [
      "Model: \"sequential_20\"\n",
      "_________________________________________________________________\n",
      " Layer (type)                Output Shape              Param #   \n",
      "=================================================================\n",
      " flatten_20 (Flatten)        (None, 784)               0         \n",
      "                                                                 \n",
      " dense_43 (Dense)            (None, 50)                39250     \n",
      "                                                                 \n",
      " dense_44 (Dense)            (None, 50)                2550      \n",
      "                                                                 \n",
      " dense_45 (Dense)            (None, 50)                2550      \n",
      "                                                                 \n",
      " dense_46 (Dense)            (None, 10)                510       \n",
      "                                                                 \n",
      "=================================================================\n",
      "Total params: 44,860\n",
      "Trainable params: 44,860\n",
      "Non-trainable params: 0\n",
      "_________________________________________________________________\n",
      "Epoch 1/10\n",
      "1500/1500 [==============================] - 9s 5ms/step - loss: 0.8595 - acc: 0.7068 - val_loss: 0.5562 - val_acc: 0.8049\n",
      "Epoch 2/10\n",
      "1500/1500 [==============================] - 8s 5ms/step - loss: 0.5187 - acc: 0.8199 - val_loss: 0.4848 - val_acc: 0.8302\n",
      "Epoch 3/10\n",
      "1500/1500 [==============================] - 8s 5ms/step - loss: 0.4645 - acc: 0.8355 - val_loss: 0.4627 - val_acc: 0.8355\n",
      "Epoch 4/10\n",
      "1500/1500 [==============================] - 8s 5ms/step - loss: 0.4331 - acc: 0.8469 - val_loss: 0.4504 - val_acc: 0.8410\n",
      "Epoch 5/10\n",
      "1500/1500 [==============================] - 8s 5ms/step - loss: 0.4099 - acc: 0.8548 - val_loss: 0.4181 - val_acc: 0.8503\n",
      "Epoch 6/10\n",
      "1500/1500 [==============================] - 7s 5ms/step - loss: 0.3932 - acc: 0.8599 - val_loss: 0.4074 - val_acc: 0.8562\n",
      "Epoch 7/10\n",
      "1500/1500 [==============================] - 8s 5ms/step - loss: 0.3795 - acc: 0.8648 - val_loss: 0.3980 - val_acc: 0.8575\n",
      "Epoch 8/10\n",
      "1500/1500 [==============================] - 8s 5ms/step - loss: 0.3671 - acc: 0.8678 - val_loss: 0.3925 - val_acc: 0.8587\n",
      "Epoch 9/10\n",
      "1500/1500 [==============================] - 8s 5ms/step - loss: 0.3568 - acc: 0.8724 - val_loss: 0.3770 - val_acc: 0.8669\n",
      "Epoch 10/10\n",
      "1500/1500 [==============================] - 8s 5ms/step - loss: 0.3474 - acc: 0.8735 - val_loss: 0.3684 - val_acc: 0.8680\n"
     ]
    },
    {
     "data": {
      "text/plain": [
       "<matplotlib.legend.Legend at 0x190fcf0d310>"
      ]
     },
     "execution_count": 31,
     "metadata": {},
     "output_type": "execute_result"
    },
    {
     "data": {
      "image/png": "[encoded data removed]",
      "text/plain": [
       "<Figure size 576x360 with 1 Axes>"
      ]
     },
     "metadata": {
      "needs_background": "light"
     },
     "output_type": "display_data"
    }
   ],
   "source": [
    "del model\n",
    "model=tf.keras.models.Sequential()\n",
    "model.add(tf.keras.layers.Input((28,28)))\n",
    "model.add(tf.keras.layers.Flatten())\n",
    "model.add(tf.keras.layers.Dense(50,activation=tf.keras.activations.relu))\n",
    "model.add(tf.keras.layers.Dense(50,activation=tf.keras.activations.relu))\n",
    "model.add(tf.keras.layers.Dense(50,activation=tf.keras.activations.relu))\n",
    "model.add(tf.keras.layers.Dense(10,activation=tf.keras.activations.softmax))\n",
    "model.summary()\n",
    "model.compile(optimizer=tf.keras.optimizers.SGD(learning_rate=0.01),\n",
    "             loss=tf.keras.losses.categorical_crossentropy,\n",
    "             metrics=['acc'])\n",
    "model_history=model.fit(x_train_encoded,y_encoded,batch_size=32,epochs=10,validation_split=0.2)\n",
    "\n",
    "plt.figure(figsize=(8, 5))\n",
    "plt.plot(model_history.history.get(\"loss\"), label=\"Training Loss\")\n",
    "plt.plot(model_history.history.get(\"val_loss\"), label=\"Val Loss\")\n",
    "plt.xlabel(\"Epoch\")\n",
    "plt.ylabel(\"Loss\")\n",
    "plt.legend()"
   ]
  },
  {
   "cell_type": "code",
   "execution_count": 15,
   "id": "a1caa8f9",
   "metadata": {
    "collapsed": true
   },
   "outputs": [
    {
     "data": {
      "text/plain": [
       "<matplotlib.legend.Legend at 0x190fc943e50>"
      ]
     },
     "execution_count": 15,
     "metadata": {},
     "output_type": "execute_result"
    },
    {
     "data": {
      "image/png": "[encoded data removed]",
      "text/plain": [
       "<Figure size 576x360 with 1 Axes>"
      ]
     },
     "metadata": {
      "needs_background": "light"
     },
     "output_type": "display_data"
    }
   ],
   "source": []
  },
  {
   "cell_type": "code",
   "execution_count": null,
   "id": "6b98fa24",
   "metadata": {},
   "outputs": [],
   "source": []
  },
  {
   "cell_type": "code",
   "execution_count": null,
   "id": "2d3d7413",
   "metadata": {},
   "outputs": [],
   "source": []
  }
 ],
 "metadata": {
  "kernelspec": {
   "display_name": "Python 3 (ipykernel)",
   "language": "python",
   "name": "python3"
  },
  "language_info": {
   "codemirror_mode": {
    "name": "ipython",
    "version": 3
   },
   "file_extension": ".py",
   "mimetype": "text/x-python",
   "name": "python",
   "nbconvert_exporter": "python",
   "pygments_lexer": "ipython3",
   "version": "3.9.12"
  }
 },
 "nbformat": 4,
 "nbformat_minor": 5
}
